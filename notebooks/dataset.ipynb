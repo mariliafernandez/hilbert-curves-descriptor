{
 "cells": [
  {
   "cell_type": "code",
   "execution_count": 1,
   "id": "ad754443-1cfc-4108-a3d6-d8777d312735",
   "metadata": {},
   "outputs": [],
   "source": [
    "import pickle\n",
    "from pathlib import Path\n",
    "import numpy as np\n",
    "from PIL import Image\n",
    "\n"
   ]
  },
  {
   "cell_type": "markdown",
   "id": "e2e7804e-2e8f-4fed-8eb5-3225aced474c",
   "metadata": {},
   "source": [
    "### Import data from batch"
   ]
  },
  {
   "cell_type": "code",
   "execution_count": 2,
   "id": "aa1bde50-535d-4523-91c2-b4a28ec46f8d",
   "metadata": {},
   "outputs": [],
   "source": [
    "file = Path('cifar-10-batches-py/data_batch_1') \n",
    "\n",
    "with open(file, 'rb') as fo:\n",
    "    dict_data = pickle.load(fo, encoding='bytes')\n",
    "    \n",
    "data = dict_data[b'data']\n",
    "labels = dict_data[b'labels']"
   ]
  },
  {
   "cell_type": "code",
   "execution_count": 5,
   "id": "5469ea42-d967-465a-b50d-a965f5c0c2c5",
   "metadata": {},
   "outputs": [],
   "source": [
    "r = data[0,:1024]\n",
    "g = data[0,1024:2048]\n",
    "b = data[0,2048:3072]"
   ]
  },
  {
   "cell_type": "markdown",
   "id": "fc054719-f168-4e0f-9ddd-6c932b0b57f0",
   "metadata": {},
   "source": [
    "Numpy array to Image"
   ]
  },
  {
   "cell_type": "code",
   "execution_count": 6,
   "id": "84b3b1f4-065a-4642-b74c-4a1912ab18a4",
   "metadata": {},
   "outputs": [],
   "source": [
    "rgb = list()\n",
    "\n",
    "for i in range(1024):\n",
    "    rgb.append( np.asarray([r[i], g[i], b[i]]) )\n",
    "        \n",
    "np_img = np.asarray(rgb)\n",
    "np_img_reshaped = np.reshape(np_img, (32,32,3))\n",
    "\n",
    "im = Image.fromarray(np_img_reshaped)"
   ]
  },
  {
   "cell_type": "code",
   "execution_count": 7,
   "id": "87737a5d-047c-4bb6-ab56-8e796431112c",
   "metadata": {},
   "outputs": [
    {
     "data": {
      "image/png": "[encoded data removed]",
      "text/plain": [
       "<PIL.Image.Image image mode=RGB size=32x32 at 0x7FC74FF8A100>"
      ]
     },
     "execution_count": 7,
     "metadata": {},
     "output_type": "execute_result"
    }
   ],
   "source": [
    "im"
   ]
  },
  {
   "cell_type": "code",
   "execution_count": null,
   "id": "13d39aee-7b58-496d-a10d-7ecef2edf707",
   "metadata": {},
   "outputs": [],
   "source": []
  }
 ],
 "metadata": {
  "kernelspec": {
   "display_name": "Python 3.8.0 64-bit ('3.8.0')",
   "language": "python",
   "name": "python380jvsc74a57bd00eaaf2293b5bb234d641f3e8d489509fd3bf83a80999d031cfe07319a34e257c"
  },
  "language_info": {
   "codemirror_mode": {
    "name": "ipython",
    "version": 3
   },
   "file_extension": ".py",
   "mimetype": "text/x-python",
   "name": "python",
   "nbconvert_exporter": "python",
   "pygments_lexer": "ipython3",
   "version": "3.8.0"
  }
 },
 "nbformat": 4,
 "nbformat_minor": 5
}
