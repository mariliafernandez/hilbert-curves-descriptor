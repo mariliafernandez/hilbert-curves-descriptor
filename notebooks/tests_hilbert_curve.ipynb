{
 "cells": [
  {
   "cell_type": "markdown",
   "metadata": {},
   "source": [
    "referencia: http://blog.marcinchwedczuk.pl/iterative-algorithm-for-drawing-hilbert-curve"
   ]
  },
  {
   "cell_type": "code",
   "execution_count": 2,
   "metadata": {},
   "outputs": [],
   "source": [
    "from PIL import Image, ImageDraw\n",
    "import numpy as np\n",
    "import matplotlib.pyplot as plt\n",
    "import cv2 as cv\n",
    "from pathlib import PurePath"
   ]
  },
  {
   "cell_type": "code",
   "execution_count": 32,
   "metadata": {},
   "outputs": [],
   "source": [
    "def plot(img):\n",
    "    plt.imshow(img)\n",
    "    plt.show()"
   ]
  },
  {
   "cell_type": "code",
   "execution_count": 78,
   "metadata": {},
   "outputs": [],
   "source": [
    "def index2xy(index, N, im_size=None):\n",
    "    \n",
    "    if im_size == None or N > im_size:\n",
    "        N = im_size\n",
    "        \n",
    "    # x, y positions in N=2\n",
    "    positions = [\n",
    "        [0,0],\n",
    "        [0,1],\n",
    "        [1,1],\n",
    "        [1,0]\n",
    "    ]\n",
    "    \n",
    "    # last 2 bits = position in N=2\n",
    "    x, y = positions[ index&3 ]\n",
    "    \n",
    "    # next 2 bits = position in current N\n",
    "    index = index >> 2\n",
    "    \n",
    "    n=4\n",
    "    while n <= N:\n",
    "        n2 = n//2\n",
    "        \n",
    "        h = index&3\n",
    "        \n",
    "        # Bottom left\n",
    "        if h == 0:\n",
    "            x, y = y, x\n",
    "            \n",
    "        # Upper left\n",
    "        elif h == 1:\n",
    "            x, y = x, y+n2\n",
    "            \n",
    "        # Upper right\n",
    "        elif h == 2:\n",
    "            x, y = x+n2, y+n2\n",
    "\n",
    "        # Bottom right\n",
    "        elif h == 3:\n",
    "            x, y  = 2*n2-1-y, n2-1-x\n",
    "            \n",
    "        index = index >> 2\n",
    "        n *= 2\n",
    "        \n",
    "    \n",
    "    x, y = im_size//N*x, im_size//N*y\n",
    "        \n",
    "    return x, y\n"
   ]
  },
  {
   "cell_type": "code",
   "execution_count": 82,
   "metadata": {},
   "outputs": [],
   "source": [
    "def hilbert_order(N, size=None):\n",
    "    img_curve = []\n",
    "\n",
    "    for i in range(N*N):\n",
    "        pixel_coord = index2xy(i, N, size)\n",
    "        img_curve.append(pixel_coord)\n",
    "    \n",
    "    return np.asarray(img_curve)"
   ]
  },
  {
   "cell_type": "code",
   "execution_count": 92,
   "metadata": {},
   "outputs": [],
   "source": [
    "im_size = 128\n",
    "blank = np.ones(shape=(im_size,im_size))\n",
    "N=32"
   ]
  },
  {
   "cell_type": "code",
   "execution_count": 93,
   "metadata": {},
   "outputs": [],
   "source": [
    "curve = hilbert_order(N, im_size)\n",
    "im_blank = Image.fromarray(blank)\n",
    "draw = ImageDraw.Draw(im_blank)\n",
    "\n",
    "draw.line(list(curve.flatten()), width=1, fill=128)\n"
   ]
  },
  {
   "cell_type": "code",
   "execution_count": 95,
   "metadata": {},
   "outputs": [
    {
     "data": {
      "text/plain": [
       "array([[  0,   0],\n",
       "       [  0,   4],\n",
       "       [  4,   4],\n",
       "       ...,\n",
       "       [120,   4],\n",
       "       [124,   4],\n",
       "       [124,   0]])"
      ]
     },
     "execution_count": 95,
     "metadata": {},
     "output_type": "execute_result"
    }
   ],
   "source": [
    "curve"
   ]
  },
  {
   "cell_type": "code",
   "execution_count": 96,
   "metadata": {},
   "outputs": [
    {
     "data": {
      "image/png": "[encoded data removed]",
      "text/plain": [
       "<Figure size 432x288 with 1 Axes>"
      ]
     },
     "metadata": {
      "needs_background": "light"
     },
     "output_type": "display_data"
    }
   ],
   "source": [
    "plot(im_blank)"
   ]
  },
  {
   "cell_type": "code",
   "execution_count": null,
   "metadata": {},
   "outputs": [],
   "source": []
  }
 ],
 "metadata": {
  "kernelspec": {
   "display_name": "Python 3",
   "language": "python",
   "name": "python3"
  },
  "language_info": {
   "codemirror_mode": {
    "name": "ipython",
    "version": 3
   },
   "file_extension": ".py",
   "mimetype": "text/x-python",
   "name": "python",
   "nbconvert_exporter": "python",
   "pygments_lexer": "ipython3",
   "version": "3.8.2"
  }
 },
 "nbformat": 4,
 "nbformat_minor": 4
}
