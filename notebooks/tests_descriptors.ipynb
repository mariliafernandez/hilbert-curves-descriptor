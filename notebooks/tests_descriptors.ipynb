{
 "cells": [
  {
   "cell_type": "code",
   "execution_count": 1,
   "id": "42042922",
   "metadata": {},
   "outputs": [
    {
     "ename": "ImportError",
     "evalue": "attempted relative import with no known parent package",
     "output_type": "error",
     "traceback": [
      "\u001b[0;31m---------------------------------------------------------------------------\u001b[0m",
      "\u001b[0;31mImportError\u001b[0m                               Traceback (most recent call last)",
      "\u001b[0;32m<ipython-input-1-53cb2bd3f8b7>\u001b[0m in \u001b[0;36m<module>\u001b[0;34m\u001b[0m\n\u001b[1;32m      4\u001b[0m \u001b[0;32mimport\u001b[0m \u001b[0mtensorflow\u001b[0m \u001b[0;32mas\u001b[0m \u001b[0mtf\u001b[0m\u001b[0;34m\u001b[0m\u001b[0;34m\u001b[0m\u001b[0m\n\u001b[1;32m      5\u001b[0m \u001b[0;34m\u001b[0m\u001b[0m\n\u001b[0;32m----> 6\u001b[0;31m \u001b[0;32mfrom\u001b[0m \u001b[0;34m.\u001b[0m\u001b[0;34m.\u001b[0m\u001b[0msrc\u001b[0m\u001b[0;34m.\u001b[0m\u001b[0mhilbert_curve\u001b[0m \u001b[0;32mimport\u001b[0m \u001b[0;34m*\u001b[0m\u001b[0;34m\u001b[0m\u001b[0;34m\u001b[0m\u001b[0m\n\u001b[0m",
      "\u001b[0;31mImportError\u001b[0m: attempted relative import with no known parent package"
     ]
    }
   ],
   "source": [
    "import numpy as np\n",
    "import cv2 as cv\n",
    "import matplotlib.pyplot as plt\n",
    "import tensorflow as tf\n",
    "\n",
    "from ..src.hilbert_curve import *"
   ]
  },
  {
   "cell_type": "code",
   "execution_count": null,
   "id": "d752c0a3",
   "metadata": {},
   "outputs": [],
   "source": [
    "def plot(img):\n",
    "    plt.imshow(img)\n",
    "    plt.show()"
   ]
  },
  {
   "cell_type": "code",
   "execution_count": null,
   "id": "db1d9314",
   "metadata": {},
   "outputs": [],
   "source": [
    "img1 = cv.imread('../img/clean-bg/airplane/image_0665.jpg')\n",
    "gray1 = cv.cvtColor(img1, cv.COLOR_BGR2GRAY)\n",
    "\n",
    "img2 = cv.imread('../img/clean-bg/airplane/image_0130.jpg')\n",
    "gray2 = cv.cvtColor(img2, cv.COLOR_BGR2GRAY)\n",
    "\n",
    "# plot(img)"
   ]
  },
  {
   "cell_type": "markdown",
   "id": "17e858a6",
   "metadata": {},
   "source": [
    "## Feature description"
   ]
  },
  {
   "cell_type": "markdown",
   "id": "410b827f",
   "metadata": {},
   "source": [
    "### SIFT "
   ]
  },
  {
   "cell_type": "code",
   "execution_count": null,
   "id": "290c5aa6",
   "metadata": {},
   "outputs": [],
   "source": [
    "sift = cv.SIFT_create()\n",
    "\n",
    "# find the keypoints and descriptors with SIFT\n",
    "kp1, des1 = sift.detectAndCompute(gray1,None)\n",
    "kp2, des2 = sift.detectAndCompute(gray2,None)\n",
    "    \n",
    "# create BFMatcher object\n",
    "BFMatcher = cv.BFMatcher()\n",
    "matches = BFMatcher.knnMatch(des1,des2,k=2)\n",
    "\n",
    "# Apply ratio test\n",
    "good = []\n",
    "for m,n in matches:\n",
    "    if m.distance < 0.75*n.distance:\n",
    "        good.append([m])\n",
    "\n",
    "# cv.drawMatchesKnn expects list of lists as matches\n",
    "output = cv.drawMatchesKnn(img1,kp1,img2,kp2,good,None,flags=cv.DrawMatchesFlags_NOT_DRAW_SINGLE_POINTS)"
   ]
  },
  {
   "cell_type": "code",
   "execution_count": null,
   "id": "52b8cee6-b9c3-4f55-be27-0fc470f2be27",
   "metadata": {},
   "outputs": [],
   "source": [
    "plot(output)"
   ]
  },
  {
   "cell_type": "markdown",
   "id": "56060ee1",
   "metadata": {},
   "source": [
    "### BRISK"
   ]
  },
  {
   "cell_type": "code",
   "execution_count": null,
   "id": "679abfcb",
   "metadata": {},
   "outputs": [],
   "source": [
    "brisk = cv.SIFT_create()\n",
    "\n",
    "BFMatcher = cv.BFMatcher(normType = cv.NORM_HAMMING,crossCheck = True)\n",
    "\n",
    "kp1, des1 = brisk.detectAndCompute(gray1,None)\n",
    "kp2, des2 = brisk.detectAndCompute(gray2,None)\n",
    "\n",
    "matches = BFMatcher.match(queryDescriptors = des1, trainDescriptors = des2)\n",
    "matches = sorted(matches, key = lambda x: x.distance)\n",
    "\n",
    "output = cv.drawMatches(img1 = img1,\n",
    "                        keypoints1 = kp1,\n",
    "                        img2 = img2,\n",
    "                        keypoints2 = kp2,\n",
    "                        matches1to2 = matches[:15],\n",
    "                        outImg = None,\n",
    "                        flags = cv.DrawMatchesFlags_NOT_DRAW_SINGLE_POINTS)"
   ]
  },
  {
   "cell_type": "markdown",
   "id": "23383ddb",
   "metadata": {},
   "source": [
    "### Oriented BRISK"
   ]
  },
  {
   "cell_type": "code",
   "execution_count": null,
   "id": "8c01322e",
   "metadata": {},
   "outputs": [],
   "source": [
    "orb = cv.BRISK_create() \n",
    "orb_kp, orb_des = orb.detectAndCompute(gray,None)\n",
    "img_orb = cv.drawKeypoints(gray, orb_kp, img, flags=cv.DRAW_MATCHES_FLAGS_DRAW_RICH_KEYPOINTS)\n",
    "\n",
    "orb_kp_2, orb_des_2 = orb.detectAndCompute(gray2,None)\n",
    "img_orb_2 = cv.drawKeypoints(gray2, orb_kp_2, img2, flags=cv.DRAW_MATCHES_FLAGS_DRAW_RICH_KEYPOINTS)\n",
    "\n",
    "plot(img_orb)\n",
    "plot(img_orb_2)"
   ]
  },
  {
   "cell_type": "markdown",
   "id": "2497c13b",
   "metadata": {},
   "source": [
    "## Feature Matching"
   ]
  },
  {
   "cell_type": "code",
   "execution_count": null,
   "id": "3fba15d8",
   "metadata": {},
   "outputs": [],
   "source": [
    "# create BFMatcher object\n",
    "BFMatcher = cv.BFMatcher(normType = cv.NORM_HAMMING,\n",
    "                         crossCheck = True)\n",
    "\n",
    "# Matching descriptor vectors using Brute Force Matcher\n",
    "matches = BFMatcher.match(queryDescriptors = brisk_des,\n",
    "                          trainDescriptors = brisk_des_2)\n",
    "\n",
    "# Sort them in the order of their distance\n",
    "matches = sorted(matches, key = lambda x: x.distance)\n",
    "\n",
    "# Draw first 15 matches\n",
    "output = cv.drawMatches(img1 = img,\n",
    "                        keypoints1 = brisk_kp,\n",
    "                        img2 = img2,\n",
    "                        keypoints2 = brisk_kp_2,\n",
    "                        matches1to2 = matches[:15],\n",
    "                        outImg = None,\n",
    "                        flags = cv.DrawMatchesFlags_NOT_DRAW_SINGLE_POINTS)\n",
    "\n",
    "plot(output)\n"
   ]
  }
 ],
 "metadata": {
  "kernelspec": {
   "display_name": "Python 3",
   "language": "python",
   "name": "python3"
  },
  "language_info": {
   "codemirror_mode": {
    "name": "ipython",
    "version": 3
   },
   "file_extension": ".py",
   "mimetype": "text/x-python",
   "name": "python",
   "nbconvert_exporter": "python",
   "pygments_lexer": "ipython3",
   "version": "3.8.2"
  }
 },
 "nbformat": 4,
 "nbformat_minor": 5
}
