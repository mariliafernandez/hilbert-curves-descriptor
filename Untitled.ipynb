{
 "cells": [
  {
   "cell_type": "code",
   "execution_count": 7,
   "metadata": {},
   "outputs": [],
   "source": [
    "from PIL import Image\n",
    "import numpy as np"
   ]
  },
  {
   "cell_type": "code",
   "execution_count": 45,
   "metadata": {},
   "outputs": [],
   "source": [
    "im = Image.open('lenna.png')\n",
    "arr = np.array(im)\n",
    "base_shape = arr.shape[:2]\n",
    "n_rows = base_shape[0]\n",
    "n_cols = base_shape[1]\n",
    "curve_init = np.zeros(base_shape)"
   ]
  },
  {
   "cell_type": "markdown",
   "metadata": {},
   "source": [
    "Gerando o desenho inicial"
   ]
  },
  {
   "cell_type": "code",
   "execution_count": 54,
   "metadata": {},
   "outputs": [],
   "source": [
    "curve_init[:,0] = 255\n",
    "curve_init[-1,:] = 255\n",
    "curve_init[:,-1] = 255"
   ]
  },
  {
   "cell_type": "code",
   "execution_count": 55,
   "metadata": {},
   "outputs": [
    {
     "data": {
      "text/plain": [
       "array([[255.,   0.,   0., ...,   0.,   0., 255.],\n",
       "       [255.,   0.,   0., ...,   0.,   0., 255.],\n",
       "       [255.,   0.,   0., ...,   0.,   0., 255.],\n",
       "       ...,\n",
       "       [255.,   0.,   0., ...,   0.,   0., 255.],\n",
       "       [255.,   0.,   0., ...,   0.,   0., 255.],\n",
       "       [255., 255., 255., ..., 255., 255., 255.]])"
      ]
     },
     "execution_count": 55,
     "metadata": {},
     "output_type": "execute_result"
    }
   ],
   "source": [
    "curve_init"
   ]
  },
  {
   "cell_type": "markdown",
   "metadata": {},
   "source": [
    "Gerando o desenho da segunda iteração "
   ]
  },
  {
   "cell_type": "code",
   "execution_count": 60,
   "metadata": {},
   "outputs": [],
   "source": [
    "q1 = curve_init[ :n_rows//2, :n_cols//2]\n",
    "q2 = curve_init[ :n_rows//2, n_cols//2:]\n",
    "q3 = curve_init[ n_rows//2:, n_cols//2:]\n",
    "q4 = curve_init[ n_rows//2:, :n_cols//2]\n"
   ]
  },
  {
   "cell_type": "code",
   "execution_count": 63,
   "metadata": {},
   "outputs": [
    {
     "data": {
      "text/plain": [
       "array([[255.,   0.,   0., ...,   0.,   0.,   0.],\n",
       "       [255.,   0.,   0., ...,   0.,   0.,   0.],\n",
       "       [255.,   0.,   0., ...,   0.,   0.,   0.],\n",
       "       ...,\n",
       "       [255.,   0.,   0., ...,   0.,   0.,   0.],\n",
       "       [255.,   0.,   0., ...,   0.,   0.,   0.],\n",
       "       [255., 255., 255., ..., 255., 255., 255.]])"
      ]
     },
     "execution_count": 63,
     "metadata": {},
     "output_type": "execute_result"
    }
   ],
   "source": [
    "q4"
   ]
  },
  {
   "cell_type": "code",
   "execution_count": null,
   "metadata": {},
   "outputs": [],
   "source": []
  }
 ],
 "metadata": {
  "kernelspec": {
   "display_name": "Python 3",
   "language": "python",
   "name": "python3"
  },
  "language_info": {
   "codemirror_mode": {
    "name": "ipython",
    "version": 3
   },
   "file_extension": ".py",
   "mimetype": "text/x-python",
   "name": "python",
   "nbconvert_exporter": "python",
   "pygments_lexer": "ipython3",
   "version": "3.8.2"
  }
 },
 "nbformat": 4,
 "nbformat_minor": 4
}
