{
 "cells": [
  {
   "cell_type": "code",
   "execution_count": 1,
   "id": "d3166824-d6a6-47eb-ab87-89c45875bad4",
   "metadata": {},
   "outputs": [],
   "source": [
    "import cv2 as cv\n",
    "import matplotlib.pyplot as plt\n",
    "from descriptors import sift_descriptor, brisk_descriptor\n",
    "from hilbert_curve import *\n",
    "from pathlib import Path\n",
    "from sklearn.model_selection import train_test_split\n",
    "import numpy as np\n",
    "from PIL import Image"
   ]
  },
  {
   "cell_type": "code",
   "execution_count": 2,
   "id": "b6c136cf-ca5c-4c9d-9ce8-de3ff213094c",
   "metadata": {},
   "outputs": [],
   "source": [
    "sift_label = []\n",
    "sift_data = []\n",
    "\n",
    "hilbert_label = []\n",
    "hilbert_data = []\n",
    "\n",
    "#p_class1 = Path('../dtd/images/bubbly')\n",
    "#p_class2 = Path('../dtd/images/cracked')\n",
    "\n",
    "p_class1 = Path('../img/clean-bg/motorbike')\n",
    "p_class2 = Path('../img/clean-bg/airplane')\n",
    "\n",
    "# n_images = min(len(list(p_bubbly.glob('*'))), len(list(p_cracked.glob('*'))))\n",
    "n_images = 100"
   ]
  },
  {
   "cell_type": "markdown",
   "id": "3ea90315-46ff-4b08-9dfa-d6c7202c7e7f",
   "metadata": {},
   "source": [
    "### Descritores e labels da classe 1"
   ]
  },
  {
   "cell_type": "code",
   "execution_count": 3,
   "id": "8ca18284-e45d-45c7-8341-b6811a025d0a",
   "metadata": {},
   "outputs": [],
   "source": [
    "for f in list(p_class1.iterdir())[:n_images]:\n",
    "    \n",
    "    if f.suffix in ['.jpg', '.png', '.jpeg']:\n",
    "    \n",
    "        img = cv.imread(str(f))    \n",
    "\n",
    "        sift_kp, sift_desc = sift_descriptor(img)\n",
    "        \n",
    "        hilbert_desc = image_descriptor(Image.fromarray(img).convert('L'), keypoints=sift_kp)\n",
    "\n",
    "        sift_data.extend(sift_desc)\n",
    "        hilbert_data.extend(hilbert_desc)\n",
    "\n",
    "        sift_label.extend([0]*len(sift_desc)) # 0 => motorbike\n",
    "        hilbert_label.extend([0]*len(hilbert_desc))\n"
   ]
  },
  {
   "cell_type": "markdown",
   "id": "0214bf2e-515b-407e-8f8a-8c198e531eb0",
   "metadata": {},
   "source": [
    "### Descritores e labels da classe 2"
   ]
  },
  {
   "cell_type": "code",
   "execution_count": 4,
   "id": "91861ee3-fa51-4acb-9a74-4fcb5d551167",
   "metadata": {},
   "outputs": [],
   "source": [
    "for f in list(p_class2.iterdir())[:n_images]:\n",
    "    \n",
    "    if f.suffix in ['.jpg', '.png', '.jpeg']:\n",
    "    \n",
    "        img = cv.imread(str(f)) \n",
    "\n",
    "        sift_kp, sift_desc = sift_descriptor(img)\n",
    "        \n",
    "        hilbert_desc = image_descriptor(Image.fromarray(img).convert('L'), keypoints=sift_kp)\n",
    "\n",
    "        sift_data.extend(sift_desc)\n",
    "        hilbert_data.extend(hilbert_desc)\n",
    "\n",
    "        sift_label.extend([1]*len(sift_desc)) # 1 => airplane\n",
    "        hilbert_label.extend([1]*len(hilbert_desc))\n",
    "    "
   ]
  },
  {
   "cell_type": "code",
   "execution_count": 5,
   "id": "71026519-532f-4111-a2e6-13dc51abfa75",
   "metadata": {},
   "outputs": [
    {
     "data": {
      "text/plain": [
       "(277, 128)"
      ]
     },
     "execution_count": 5,
     "metadata": {},
     "output_type": "execute_result"
    }
   ],
   "source": [
    "sift_desc.shape"
   ]
  },
  {
   "cell_type": "code",
   "execution_count": 6,
   "id": "41688301-33b7-4d37-b474-c86c8e591de0",
   "metadata": {},
   "outputs": [
    {
     "data": {
      "text/plain": [
       "(232, 6)"
      ]
     },
     "execution_count": 6,
     "metadata": {},
     "output_type": "execute_result"
    }
   ],
   "source": [
    "hilbert_desc.shape"
   ]
  },
  {
   "cell_type": "code",
   "execution_count": 7,
   "id": "98d5a275-5f91-47e3-8691-2a20438b177a",
   "metadata": {},
   "outputs": [],
   "source": [
    "sift_label = np.asarray(sift_label)\n",
    "hilbert_label = np.asarray(hilbert_label)"
   ]
  },
  {
   "cell_type": "markdown",
   "id": "80588cc5-e058-420f-ba9a-6321654ad346",
   "metadata": {},
   "source": [
    "### K-Nearest Neighbors usando descritor SIFT"
   ]
  },
  {
   "cell_type": "code",
   "execution_count": 8,
   "id": "06c63224-1b27-4b15-a0ab-ee3cc698b176",
   "metadata": {},
   "outputs": [],
   "source": [
    "from sklearn.metrics import confusion_matrix\n",
    "from sklearn.metrics import classification_report\n",
    "from sklearn.neighbors import KNeighborsClassifier\n",
    "from joblib import dump, load"
   ]
  },
  {
   "cell_type": "code",
   "execution_count": 9,
   "id": "8c6848d1-b85d-416b-bb38-57e31034b56a",
   "metadata": {},
   "outputs": [
    {
     "name": "stdout",
     "output_type": "stream",
     "text": [
      "              precision    recall  f1-score   support\n",
      "\n",
      "   motorbike       0.80      0.76      0.78      4859\n",
      "    airplane       0.69      0.73      0.71      3546\n",
      "\n",
      "    accuracy                           0.75      8405\n",
      "   macro avg       0.74      0.75      0.75      8405\n",
      "weighted avg       0.75      0.75      0.75      8405\n",
      "\n"
     ]
    }
   ],
   "source": [
    "X_sift_train, X_sift_test, y_sift_train, y_sift_test = train_test_split(sift_data, sift_label)\n",
    "\n",
    "knn_sift = KNeighborsClassifier(n_neighbors=3)\n",
    "\n",
    "knn_sift.fit(X_sift_train, y_sift_train)\n",
    "predict_sift = knn_sift.predict(X_sift_test)\n",
    "\n",
    "report_sift = classification_report(y_sift_test, predict_sift, output_dict=True, target_names=['motorbike', 'airplane'])\n",
    "print(classification_report(y_sift_test, predict_sift, target_names=['motorbike', 'airplane']))"
   ]
  },
  {
   "cell_type": "markdown",
   "id": "290d03bd-1951-4e0b-9d3c-a71dbdaaedf1",
   "metadata": {},
   "source": [
    "### K-Nearest Neighbors usando descritor de curvas de Hilbert"
   ]
  },
  {
   "cell_type": "code",
   "execution_count": 10,
   "id": "92a4d5e2-1927-4254-80a7-9cc0b58bf25e",
   "metadata": {},
   "outputs": [
    {
     "name": "stdout",
     "output_type": "stream",
     "text": [
      "              precision    recall  f1-score   support\n",
      "\n",
      "   motorbike       0.88      0.85      0.87      4853\n",
      "    airplane       0.79      0.83      0.81      3243\n",
      "\n",
      "    accuracy                           0.84      8096\n",
      "   macro avg       0.83      0.84      0.84      8096\n",
      "weighted avg       0.84      0.84      0.84      8096\n",
      "\n"
     ]
    }
   ],
   "source": [
    "X_hilbert_train, X_hilbert_test, y_hilbert_train, y_hilbert_test = train_test_split(np.asarray(hilbert_data), hilbert_label)\n",
    "\n",
    "knn_hilbert = KNeighborsClassifier(n_neighbors=3)\n",
    "knn_hilbert.fit(X_hilbert_train, y_hilbert_train)\n",
    "\n",
    "predict_hilbert = knn_hilbert.predict(X_hilbert_test)\n",
    "\n",
    "report_hilbert = classification_report(y_hilbert_test, predict_hilbert, output_dict=True, target_names=['motorbike', 'airplane'])\n",
    "print(classification_report(y_hilbert_test, predict_hilbert, target_names=['motorbike', 'airplane']))"
   ]
  },
  {
   "cell_type": "markdown",
   "id": "be268cc5-d68c-46d8-b720-63b0a6e73cbb",
   "metadata": {},
   "source": [
    "Saving models"
   ]
  },
  {
   "cell_type": "code",
   "execution_count": 19,
   "id": "070fc717-9d5a-4065-9caa-87773b3e91a6",
   "metadata": {},
   "outputs": [
    {
     "data": {
      "text/plain": [
       "['../models/knn_hilbert.z']"
      ]
     },
     "execution_count": 19,
     "metadata": {},
     "output_type": "execute_result"
    }
   ],
   "source": [
    "dump(knn_sift, '../models/knn_sift.z', compress=3)\n",
    "dump(knn_hilbert, '../models/knn_hilbert.z', compress=3)"
   ]
  },
  {
   "cell_type": "markdown",
   "id": "084362f7-1b4a-43a3-a8c9-2069bbec5154",
   "metadata": {},
   "source": [
    "### Gerar tabela LaTeX com métricas dos modelos "
   ]
  },
  {
   "cell_type": "code",
   "execution_count": 11,
   "id": "03730e75-0e5e-491d-8c75-a23518ea71cb",
   "metadata": {},
   "outputs": [],
   "source": [
    "import pandas as pd"
   ]
  },
  {
   "cell_type": "code",
   "execution_count": 42,
   "id": "0532ba49-ed52-4395-bcfc-86d248481fa0",
   "metadata": {},
   "outputs": [],
   "source": [
    "report_all = {'SIFT':{}, 'Hilbert':{}}\n",
    "\n",
    "report_all['SIFT']['accuracy'] = np.round(report_sift['accuracy'], 2)\n",
    "report_all['Hilbert']['accuracy'] = np.round(report_hilbert['accuracy'], 2)\n",
    "\n",
    "for key in ['precision', 'recall', 'f1-score']:\n",
    "    report_all['SIFT'][key] = np.round(report_sift['weighted avg'][key], 2)\n",
    "    report_all['Hilbert'][key] = np.round(report_hilbert['weighted avg'][key], 2)\n",
    "    "
   ]
  },
  {
   "cell_type": "code",
   "execution_count": 44,
   "id": "4cfc22fc-dc70-4180-853d-cf066b550add",
   "metadata": {},
   "outputs": [],
   "source": [
    "df_report_all = pd.DataFrame(report_all).transpose()"
   ]
  },
  {
   "cell_type": "code",
   "execution_count": 45,
   "id": "ec9f8782-1f79-4a7d-8c3f-97ba77c73d0c",
   "metadata": {},
   "outputs": [],
   "source": [
    "latex_report = df_report_all.to_latex(caption = \"Comparação das métricas dos modelos KNN utilizando descritores SIFT e de Hilbert\")"
   ]
  },
  {
   "cell_type": "code",
   "execution_count": 46,
   "id": "aa8e41b6-46dc-4097-bd8f-edc0fce66704",
   "metadata": {},
   "outputs": [
    {
     "name": "stdout",
     "output_type": "stream",
     "text": [
      "\\begin{table}\n",
      "\\centering\n",
      "\\caption{Comparação das métricas dos modelos KNN utilizando descritores SIFT e de Hilbert}\n",
      "\\begin{tabular}{lrrrr}\n",
      "\\toprule\n",
      "{} &  accuracy &  precision &  recall &  f1-score \\\\\n",
      "\\midrule\n",
      "SIFT    &      0.75 &       0.75 &    0.75 &      0.75 \\\\\n",
      "Hilbert &      0.84 &       0.84 &    0.84 &      0.84 \\\\\n",
      "\\bottomrule\n",
      "\\end{tabular}\n",
      "\\end{table}\n",
      "\n"
     ]
    }
   ],
   "source": [
    "print(latex_report)"
   ]
  }
 ],
 "metadata": {
  "kernelspec": {
   "display_name": "Python 3",
   "language": "python",
   "name": "python3"
  },
  "language_info": {
   "codemirror_mode": {
    "name": "ipython",
    "version": 3
   },
   "file_extension": ".py",
   "mimetype": "text/x-python",
   "name": "python",
   "nbconvert_exporter": "python",
   "pygments_lexer": "ipython3",
   "version": "3.8.2"
  }
 },
 "nbformat": 4,
 "nbformat_minor": 5
}
