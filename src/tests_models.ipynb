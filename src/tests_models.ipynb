{
 "cells": [
  {
   "cell_type": "code",
   "execution_count": 1,
   "id": "d3166824-d6a6-47eb-ab87-89c45875bad4",
   "metadata": {},
   "outputs": [],
   "source": [
    "import cv2 as cv\n",
    "import matplotlib.pyplot as plt\n",
    "from descriptors import sift_descriptor, brisk_descriptor, keypoint_detector\n",
    "from hilbert_curve import image_descriptor as hilbert_descriptor\n",
    "from pathlib import Path\n",
    "from sklearn.model_selection import train_test_split\n",
    "import numpy as np\n",
    "from PIL import Image"
   ]
  },
  {
   "cell_type": "code",
   "execution_count": 2,
   "id": "b6c136cf-ca5c-4c9d-9ce8-de3ff213094c",
   "metadata": {},
   "outputs": [],
   "source": [
    "sift_label = []\n",
    "sift_data = []\n",
    "\n",
    "brisk_label = []\n",
    "brisk_data = []\n",
    "\n",
    "hilbert_label = []\n",
    "hilbert_data = []\n",
    "\n",
    "\n",
    "\n",
    "#p_class1 = Path('../dtd/images/bubbly')\n",
    "#p_class2 = Path('../dtd/images/cracked')\n",
    "\n",
    "p_class1 = Path('../img/clean-bg/motorbike')\n",
    "p_class2 = Path('../img/clean-bg/airplane')\n",
    "\n",
    "# n_images = min(len(list(p_bubbly.glob('*'))), len(list(p_cracked.glob('*'))))\n",
    "n_images = 100"
   ]
  },
  {
   "cell_type": "markdown",
   "id": "3ea90315-46ff-4b08-9dfa-d6c7202c7e7f",
   "metadata": {},
   "source": [
    "### Descritores e labels da classe 1"
   ]
  },
  {
   "cell_type": "code",
   "execution_count": 3,
   "id": "8ca18284-e45d-45c7-8341-b6811a025d0a",
   "metadata": {},
   "outputs": [],
   "source": [
    "for f in list(p_class1.iterdir())[:n_images]:\n",
    "    \n",
    "    if f.suffix in ['.jpg', '.png', '.jpeg']:\n",
    "    \n",
    "        #img = cv.imread(str(f))   \n",
    "        \n",
    "        img = Image.open(str(f)).convert('L')\n",
    "        img_array = np.asarray(img)        \n",
    "        \n",
    "        keypoints = keypoint_detector(img_array)\n",
    "        \n",
    "        sift_desc = sift_descriptor(img_array, keypoints)\n",
    "        brisk_desc = brisk_descriptor(img_array, keypoints)\n",
    "        hilbert_desc = hilbert_descriptor(img_array, keypoints)\n",
    "\n",
    "        sift_data.extend(sift_desc)\n",
    "        brisk_data.extend(brisk_desc)\n",
    "        hilbert_data.extend(hilbert_desc)\n",
    "\n",
    "        sift_label.extend([0]*len(sift_desc)) # 0 => motorbike\n",
    "        brisk_label.extend([0]*len(brisk_desc))\n",
    "        hilbert_label.extend([0]*len(hilbert_desc))\n",
    "        \n"
   ]
  },
  {
   "cell_type": "markdown",
   "id": "0214bf2e-515b-407e-8f8a-8c198e531eb0",
   "metadata": {},
   "source": [
    "### Descritores e labels da classe 2"
   ]
  },
  {
   "cell_type": "code",
   "execution_count": 4,
   "id": "91861ee3-fa51-4acb-9a74-4fcb5d551167",
   "metadata": {},
   "outputs": [],
   "source": [
    "for f in list(p_class2.iterdir())[:n_images]:\n",
    "    \n",
    "    if f.suffix in ['.jpg', '.png', '.jpeg']:\n",
    "    \n",
    "        #img = cv.imread(str(f)) \n",
    "        img = Image.open(str(f)).convert('L')\n",
    "        img_array = np.asarray(img)        \n",
    "        \n",
    "        keypoints = keypoint_detector(img_array)\n",
    "        \n",
    "        sift_desc = sift_descriptor(img_array, keypoints)\n",
    "        brisk_desc = brisk_descriptor(img_array, keypoints)\n",
    "        hilbert_desc = hilbert_descriptor(img_array, keypoints)\n",
    "\n",
    "        sift_data.extend(sift_desc)\n",
    "        brisk_data.extend(brisk_desc)\n",
    "        hilbert_data.extend(hilbert_desc)\n",
    "\n",
    "        sift_label.extend([1]*len(sift_desc)) # 1 => airplane\n",
    "        brisk_label.extend([1]*len(brisk_desc))\n",
    "        hilbert_label.extend([1]*len(hilbert_desc))\n",
    "    "
   ]
  },
  {
   "cell_type": "code",
   "execution_count": 5,
   "id": "71026519-532f-4111-a2e6-13dc51abfa75",
   "metadata": {},
   "outputs": [
    {
     "data": {
      "text/plain": [
       "(277, 128)"
      ]
     },
     "execution_count": 5,
     "metadata": {},
     "output_type": "execute_result"
    }
   ],
   "source": [
    "sift_desc.shape"
   ]
  },
  {
   "cell_type": "code",
   "execution_count": 6,
   "id": "95fa6a2d-dc14-44a0-bb98-67b6266a21b6",
   "metadata": {},
   "outputs": [
    {
     "data": {
      "text/plain": [
       "(277, 64)"
      ]
     },
     "execution_count": 6,
     "metadata": {},
     "output_type": "execute_result"
    }
   ],
   "source": [
    "brisk_desc.shape"
   ]
  },
  {
   "cell_type": "code",
   "execution_count": 7,
   "id": "41688301-33b7-4d37-b474-c86c8e591de0",
   "metadata": {},
   "outputs": [
    {
     "data": {
      "text/plain": [
       "(233, 6)"
      ]
     },
     "execution_count": 7,
     "metadata": {},
     "output_type": "execute_result"
    }
   ],
   "source": [
    "hilbert_desc.shape"
   ]
  },
  {
   "cell_type": "code",
   "execution_count": 8,
   "id": "98d5a275-5f91-47e3-8691-2a20438b177a",
   "metadata": {},
   "outputs": [],
   "source": [
    "sift_label = np.asarray(sift_label)\n",
    "brisk_label = np.asarray(brisk_label)\n",
    "hilbert_label = np.asarray(hilbert_label)"
   ]
  },
  {
   "cell_type": "markdown",
   "id": "80588cc5-e058-420f-ba9a-6321654ad346",
   "metadata": {},
   "source": [
    "### K-Nearest Neighbors usando descritor SIFT"
   ]
  },
  {
   "cell_type": "code",
   "execution_count": 9,
   "id": "06c63224-1b27-4b15-a0ab-ee3cc698b176",
   "metadata": {},
   "outputs": [],
   "source": [
    "from sklearn.metrics import confusion_matrix\n",
    "from sklearn.metrics import classification_report\n",
    "from sklearn.neighbors import KNeighborsClassifier\n",
    "from joblib import dump, load"
   ]
  },
  {
   "cell_type": "code",
   "execution_count": 10,
   "id": "f81b92c3-7929-469a-80b2-85fb0c3f27e2",
   "metadata": {},
   "outputs": [],
   "source": [
    "def create_model_report(data, label, print_report=False):\n",
    "    \n",
    "    X_train, X_test, y_train, y_test = train_test_split(data, label)\n",
    "    \n",
    "    knn = KNeighborsClassifier(n_neighbors=3)\n",
    "    knn.fit(X_train, y_train)\n",
    "    predicted = knn.predict(X_test)\n",
    "    report = classification_report(y_test, predicted, output_dict=True, target_names=['motorbike', 'airplane'])\n",
    "    \n",
    "    if print_report:\n",
    "        print(classification_report(y_test, predicted, target_names=['motorbike', 'airplane']))\n",
    "    \n",
    "    return knn, report\n",
    "    "
   ]
  },
  {
   "cell_type": "markdown",
   "id": "ad9e2aea-0528-48e9-8752-220f3a15fdc1",
   "metadata": {},
   "source": [
    "### Classification Report - SIFT"
   ]
  },
  {
   "cell_type": "code",
   "execution_count": 11,
   "id": "02a1b778-f4b4-42d1-b981-942deddd0a63",
   "metadata": {},
   "outputs": [
    {
     "name": "stdout",
     "output_type": "stream",
     "text": [
      "              precision    recall  f1-score   support\n",
      "\n",
      "   motorbike       0.79      0.75      0.77      4840\n",
      "    airplane       0.69      0.73      0.71      3569\n",
      "\n",
      "    accuracy                           0.74      8409\n",
      "   macro avg       0.74      0.74      0.74      8409\n",
      "weighted avg       0.75      0.74      0.75      8409\n",
      "\n"
     ]
    }
   ],
   "source": [
    "knn_sift, report_sift = create_model_report(sift_data, sift_label, print_report=True)"
   ]
  },
  {
   "cell_type": "markdown",
   "id": "6041cbd4-11d7-4319-b128-8639a777a5d8",
   "metadata": {},
   "source": [
    "### Classification Report - BRISK"
   ]
  },
  {
   "cell_type": "code",
   "execution_count": 12,
   "id": "92966add-8a58-43c4-82cc-7b899f99a06b",
   "metadata": {},
   "outputs": [
    {
     "name": "stdout",
     "output_type": "stream",
     "text": [
      "              precision    recall  f1-score   support\n",
      "\n",
      "   motorbike       0.72      0.66      0.69      4815\n",
      "    airplane       0.59      0.66      0.62      3540\n",
      "\n",
      "    accuracy                           0.66      8355\n",
      "   macro avg       0.66      0.66      0.66      8355\n",
      "weighted avg       0.67      0.66      0.66      8355\n",
      "\n"
     ]
    }
   ],
   "source": [
    "knn_brisk, report_brisk = create_model_report(brisk_data, brisk_label, print_report=True)"
   ]
  },
  {
   "cell_type": "markdown",
   "id": "2fd7f92a-41af-49a0-8042-43ef41afc8d9",
   "metadata": {},
   "source": [
    "### Classification Report - Hilbert Curve"
   ]
  },
  {
   "cell_type": "code",
   "execution_count": 13,
   "id": "38c3cb97-e32a-482e-9755-65f66e0efa12",
   "metadata": {},
   "outputs": [
    {
     "name": "stdout",
     "output_type": "stream",
     "text": [
      "              precision    recall  f1-score   support\n",
      "\n",
      "   motorbike       0.88      0.85      0.86      4726\n",
      "    airplane       0.80      0.83      0.81      3373\n",
      "\n",
      "    accuracy                           0.84      8099\n",
      "   macro avg       0.84      0.84      0.84      8099\n",
      "weighted avg       0.84      0.84      0.84      8099\n",
      "\n"
     ]
    }
   ],
   "source": [
    "knn_hilbert, report_hilbert = create_model_report(hilbert_data, hilbert_label, print_report=True)"
   ]
  },
  {
   "cell_type": "markdown",
   "id": "be268cc5-d68c-46d8-b720-63b0a6e73cbb",
   "metadata": {},
   "source": [
    "Saving models"
   ]
  },
  {
   "cell_type": "code",
   "execution_count": 15,
   "id": "070fc717-9d5a-4065-9caa-87773b3e91a6",
   "metadata": {},
   "outputs": [
    {
     "data": {
      "text/plain": [
       "['../models/knn_hilbert.z']"
      ]
     },
     "execution_count": 15,
     "metadata": {},
     "output_type": "execute_result"
    }
   ],
   "source": [
    "dump(knn_sift, '../models/knn_sift.z', compress=3)\n",
    "dump(knn_brisk, '../models/knn_brisk.z', compress=3)\n",
    "dump(knn_hilbert, '../models/knn_hilbert.z', compress=3)"
   ]
  },
  {
   "cell_type": "markdown",
   "id": "084362f7-1b4a-43a3-a8c9-2069bbec5154",
   "metadata": {},
   "source": [
    "### Gerar tabela LaTeX com métricas dos modelos "
   ]
  },
  {
   "cell_type": "code",
   "execution_count": 16,
   "id": "03730e75-0e5e-491d-8c75-a23518ea71cb",
   "metadata": {},
   "outputs": [],
   "source": [
    "import pandas as pd"
   ]
  },
  {
   "cell_type": "code",
   "execution_count": 25,
   "id": "0532ba49-ed52-4395-bcfc-86d248481fa0",
   "metadata": {},
   "outputs": [],
   "source": [
    "report_all = {'SIFT':{}, 'BRISK':{}, 'Hilbert':{}}\n",
    "\n",
    "report_all['SIFT']['accuracy'] = np.round(report_sift['accuracy'], 2)\n",
    "report_all['BRISK']['accuracy'] = np.round(report_sift['accuracy'], 2)\n",
    "report_all['Hilbert']['accuracy'] = np.round(report_hilbert['accuracy'], 2)\n",
    "\n",
    "\n",
    "for key in ['precision', 'recall', 'f1-score']:\n",
    "    report_all['SIFT'][key] = np.round(report_sift['weighted avg'][key], 2)\n",
    "    report_all['BRISK'][key] = np.round(report_brisk['weighted avg'][key], 2)\n",
    "    report_all['Hilbert'][key] = np.round(report_hilbert['weighted avg'][key], 2)\n",
    "    "
   ]
  },
  {
   "cell_type": "code",
   "execution_count": 26,
   "id": "4cfc22fc-dc70-4180-853d-cf066b550add",
   "metadata": {},
   "outputs": [],
   "source": [
    "df_report_all = pd.DataFrame(report_all).transpose()"
   ]
  },
  {
   "cell_type": "code",
   "execution_count": 27,
   "id": "ec9f8782-1f79-4a7d-8c3f-97ba77c73d0c",
   "metadata": {},
   "outputs": [],
   "source": [
    "latex_report = df_report_all.to_latex(caption = \"Comparação das métricas dos modelos KNN utilizando descritores SIFT e de Hilbert\")"
   ]
  },
  {
   "cell_type": "code",
   "execution_count": 28,
   "id": "aa8e41b6-46dc-4097-bd8f-edc0fce66704",
   "metadata": {},
   "outputs": [
    {
     "name": "stdout",
     "output_type": "stream",
     "text": [
      "\\begin{table}\n",
      "\\centering\n",
      "\\caption{Comparação das métricas dos modelos KNN utilizando descritores SIFT e de Hilbert}\n",
      "\\begin{tabular}{lrrrr}\n",
      "\\toprule\n",
      "{} &  accuracy &  precision &  recall &  f1-score \\\\\n",
      "\\midrule\n",
      "SIFT    &      0.74 &       0.75 &    0.74 &      0.75 \\\\\n",
      "BRISK   &      0.74 &       0.67 &    0.66 &      0.66 \\\\\n",
      "Hilbert &      0.84 &       0.84 &    0.84 &      0.84 \\\\\n",
      "\\bottomrule\n",
      "\\end{tabular}\n",
      "\\end{table}\n",
      "\n"
     ]
    }
   ],
   "source": [
    "print(latex_report)"
   ]
  },
  {
   "cell_type": "code",
   "execution_count": null,
   "id": "40c30896-603b-4f36-ad75-5bc9777a62a1",
   "metadata": {},
   "outputs": [],
   "source": []
  }
 ],
 "metadata": {
  "kernelspec": {
   "display_name": "Python 3 (ipykernel)",
   "language": "python",
   "name": "python3"
  },
  "language_info": {
   "codemirror_mode": {
    "name": "ipython",
    "version": 3
   },
   "file_extension": ".py",
   "mimetype": "text/x-python",
   "name": "python",
   "nbconvert_exporter": "python",
   "pygments_lexer": "ipython3",
   "version": "3.8.2"
  }
 },
 "nbformat": 4,
 "nbformat_minor": 5
}
