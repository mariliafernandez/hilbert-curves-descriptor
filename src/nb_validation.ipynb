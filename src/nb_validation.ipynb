{
 "cells": [
  {
   "cell_type": "code",
   "execution_count": 1,
   "id": "d3166824-d6a6-47eb-ab87-89c45875bad4",
   "metadata": {},
   "outputs": [],
   "source": [
    "import cv2 as cv\n",
    "import matplotlib.pyplot as plt\n",
    "from descriptors import sift_descriptor, brisk_descriptor, keypoint_detector\n",
    "from hilbert_curve import image_descriptor as hilbert_descriptor\n",
    "from pathlib import Path\n",
    "from sklearn.model_selection import train_test_split\n",
    "import numpy as np\n",
    "from PIL import Image\n",
    "import time\n",
    "import random"
   ]
  },
  {
   "cell_type": "code",
   "execution_count": 2,
   "id": "5e0f5dad-fd88-4049-97d5-d15bacbfc3ec",
   "metadata": {},
   "outputs": [],
   "source": [
    "keys = ['sift', 'brisk', 'hilbert']\n",
    "classes = ['airplanes', 'motorbikes']\n",
    "#n_images = 30\n",
    "percent_kp = 1"
   ]
  },
  {
   "cell_type": "code",
   "execution_count": 3,
   "id": "d4ce6214-cdc3-42fc-9dc2-5d347a8bf3af",
   "metadata": {},
   "outputs": [],
   "source": [
    "source_dir = Path('../caltech-101')\n",
    "masks_path = source_dir / 'masks'\n",
    "images_path = source_dir / 'segmented_images'\n",
    "\n",
    "class_number = {}\n",
    "i = 0\n",
    "\n",
    "# Attribute number to class names\n",
    "for classname in images_path.iterdir():\n",
    "    if classname.name in classes:\n",
    "        class_number[classname.name] = i\n",
    "        i += 1"
   ]
  },
  {
   "cell_type": "code",
   "execution_count": 4,
   "id": "62cee143-f9ad-4c0e-81b0-fd6279e5b461",
   "metadata": {},
   "outputs": [
    {
     "data": {
      "text/plain": [
       "{'airplanes': 0, 'motorbikes': 1}"
      ]
     },
     "execution_count": 4,
     "metadata": {},
     "output_type": "execute_result"
    }
   ],
   "source": [
    "class_number"
   ]
  },
  {
   "cell_type": "code",
   "execution_count": 5,
   "id": "4058e0de-87cd-4887-aac2-bb4881874901",
   "metadata": {},
   "outputs": [],
   "source": [
    "# Initialize empty lists\n",
    "\n",
    "time_spent = {}\n",
    "label = {}\n",
    "data = {}\n",
    "\n",
    "for k in keys:\n",
    "    time_spent[k] = []\n",
    "    label[k] = []\n",
    "    data[k] = []"
   ]
  },
  {
   "cell_type": "markdown",
   "id": "3ea90315-46ff-4b08-9dfa-d6c7202c7e7f",
   "metadata": {},
   "source": [
    "### Descritores e labels"
   ]
  },
  {
   "cell_type": "code",
   "execution_count": 6,
   "id": "048836e5-b5c5-47b2-b2a4-da74ad82bc9f",
   "metadata": {},
   "outputs": [],
   "source": [
    "n_kps = {}"
   ]
  },
  {
   "cell_type": "code",
   "execution_count": 7,
   "id": "90906f93-723a-4750-8f39-635d094f226c",
   "metadata": {},
   "outputs": [],
   "source": [
    "for classpath in images_path.iterdir():\n",
    "    \n",
    "    sift = cv.SIFT_create()\n",
    "    \n",
    "    if classpath.name in classes:\n",
    "        \n",
    "        n_kps[classpath.name] = []\n",
    "    \n",
    "        for f in list(classpath.iterdir()):\n",
    "\n",
    "            target = class_number[classpath.name]\n",
    "\n",
    "            # Read image\n",
    "            img_array = cv.imread(str(f), cv.IMREAD_GRAYSCALE)\n",
    "            \n",
    "            # Read image mask\n",
    "            mask_path = masks_path / classpath.name / f.name\n",
    "            mask_array = cv.imread(str(mask_path), cv.IMREAD_GRAYSCALE)\n",
    "\n",
    "            # Detect keypoints\n",
    "            keypoints = keypoint_detector(img_array, mask_array)\n",
    "            sorted_kp = sorted(keypoints, key = lambda x: x.size, reverse=True)    \n",
    "            \n",
    "            n = int(percent_kp * len(keypoints))\n",
    "            top_kp = sorted_kp[:n]\n",
    "            \n",
    "            n_kps[classpath.name].append(len(keypoints))\n",
    "\n",
    "\n",
    "            # Compute descriptors and time spent\n",
    "            t1_sift = time.time()\n",
    "            sift_desc = sift_descriptor(img_array, top_kp)\n",
    "            t2_sift = time.time()\n",
    "\n",
    "            t1_brisk = time.time()\n",
    "            brisk_desc = brisk_descriptor(img_array, top_kp)\n",
    "            t2_brisk = time.time()\n",
    "\n",
    "            t1_hilbert = time.time()\n",
    "            hilbert_desc = hilbert_descriptor(img_array, top_kp)\n",
    "            t2_hilbert = time.time()\n",
    "\n",
    "            # Save descriptor data\n",
    "            data['sift'].extend(sift_desc)\n",
    "            data['brisk'].extend(brisk_desc)\n",
    "            data['hilbert'].extend(hilbert_desc)\n",
    "\n",
    "            # Save image label\n",
    "            label['sift'].extend(np.asarray([target]*len(sift_desc)))\n",
    "            label['brisk'].extend(np.asarray([target]*len(brisk_desc)))\n",
    "            label['hilbert'].extend(np.asarray([target]*len(hilbert_desc)))\n",
    "\n",
    "            # Save time spent\n",
    "            time_spent['sift'].append(t2_sift - t1_sift)\n",
    "            time_spent['brisk'].append(t2_brisk - t1_brisk)\n",
    "            time_spent['hilbert'].append(t2_hilbert - t1_hilbert)"
   ]
  },
  {
   "cell_type": "code",
   "execution_count": 8,
   "id": "cd1729b7-e35a-4cb1-a007-fb73064d2383",
   "metadata": {},
   "outputs": [
    {
     "data": {
      "text/plain": [
       "array([52.52960881, 18.10208512, -1.0612117 , -0.96991925,  3.11634349,\n",
       "        4.14497452])"
      ]
     },
     "execution_count": 8,
     "metadata": {},
     "output_type": "execute_result"
    }
   ],
   "source": [
    "data['hilbert'][0]"
   ]
  },
  {
   "cell_type": "markdown",
   "id": "f84d8063-b45f-49d8-9cf4-2144d1f6e817",
   "metadata": {},
   "source": [
    "### Tempo e espaço em memória "
   ]
  },
  {
   "cell_type": "code",
   "execution_count": 9,
   "id": "620bcb50-416f-4e67-911e-c703905ff640",
   "metadata": {},
   "outputs": [
    {
     "data": {
      "text/plain": [
       "121.88471177944862"
      ]
     },
     "execution_count": 9,
     "metadata": {},
     "output_type": "execute_result"
    }
   ],
   "source": [
    "np.average(np.asarray(n_kps['airplanes']))"
   ]
  },
  {
   "cell_type": "code",
   "execution_count": 10,
   "id": "c0a5d96f-2854-43e9-b442-154de9534a3e",
   "metadata": {},
   "outputs": [
    {
     "data": {
      "text/plain": [
       "190.50250626566415"
      ]
     },
     "execution_count": 10,
     "metadata": {},
     "output_type": "execute_result"
    }
   ],
   "source": [
    "np.average(np.asarray(n_kps['motorbikes']))"
   ]
  },
  {
   "cell_type": "code",
   "execution_count": 11,
   "id": "32233272-f25d-461d-b36f-e1429570ed37",
   "metadata": {},
   "outputs": [],
   "source": [
    "for k in keys:\n",
    "    label[k] = np.asarray(label[k])\n",
    "    time_spent[k] = np.asarray(time_spent[k])"
   ]
  },
  {
   "cell_type": "code",
   "execution_count": 12,
   "id": "5868dd76-85d5-4db9-9d5e-e9dcbf49a862",
   "metadata": {},
   "outputs": [
    {
     "name": "stdout",
     "output_type": "stream",
     "text": [
      "sift\n",
      "time: 0.00511573012311357\n",
      "size: 128.0\n",
      "\n",
      "brisk\n",
      "time: 0.02371936155142342\n",
      "size: 64.0\n",
      "\n",
      "hilbert\n",
      "time: 0.3463736342308216\n",
      "size: 6.0\n",
      "\n"
     ]
    }
   ],
   "source": [
    "for k in keys:\n",
    "    print(k)\n",
    "    print(f'time: {np.average(time_spent[k])}')\n",
    "    print(f'size: {np.average(data[k][0].shape)}')\n",
    "    print()"
   ]
  },
  {
   "cell_type": "markdown",
   "id": "80588cc5-e058-420f-ba9a-6321654ad346",
   "metadata": {},
   "source": [
    "### Classifiers"
   ]
  },
  {
   "cell_type": "code",
   "execution_count": 13,
   "id": "06c63224-1b27-4b15-a0ab-ee3cc698b176",
   "metadata": {},
   "outputs": [],
   "source": [
    "from sklearn.metrics import confusion_matrix\n",
    "from sklearn.metrics import classification_report\n",
    "from sklearn.neighbors import KNeighborsClassifier\n",
    "from imblearn.under_sampling import RandomUnderSampler\n",
    "from joblib import dump, load"
   ]
  },
  {
   "cell_type": "code",
   "execution_count": 14,
   "id": "ee4c337a-5ed7-4329-89d9-4d8d7889e407",
   "metadata": {},
   "outputs": [],
   "source": [
    "def balance_set(data, label):\n",
    "    \n",
    "    rus = RandomUnderSampler(random_state=0)\n",
    "    X_resampled, y_resampled = rus.fit_resample(data, label)\n",
    "    \n",
    "    return X_resampled, y_resampled"
   ]
  },
  {
   "cell_type": "code",
   "execution_count": 15,
   "id": "f81b92c3-7929-469a-80b2-85fb0c3f27e2",
   "metadata": {},
   "outputs": [],
   "source": [
    "def create_model_report(classifier, X, y, print_report=False):\n",
    "    \n",
    "    data, label = balance_set(X, y)\n",
    "    \n",
    "    X_train, X_test, y_train, y_test = train_test_split(data, label)\n",
    "    \n",
    "    classifier.fit(X_train, y_train)\n",
    "    predicted = classifier.predict(X_test)\n",
    "    report = classification_report(y_test, predicted, output_dict=True, target_names=['motorbike', 'airplane'])\n",
    "    \n",
    "    if print_report:\n",
    "        print(classification_report(y_test, predicted, target_names=['motorbike', 'airplane']))\n",
    "    \n",
    "    return report\n",
    "    "
   ]
  },
  {
   "cell_type": "markdown",
   "id": "2c7828b2-8e2f-46c9-8a84-80d904026fac",
   "metadata": {},
   "source": [
    "### K-Nearest Neighbours"
   ]
  },
  {
   "cell_type": "code",
   "execution_count": 16,
   "id": "7207d174-925e-4ed5-a2c7-bc55d9add9ea",
   "metadata": {},
   "outputs": [
    {
     "data": {
      "text/plain": [
       "['sift', 'brisk', 'hilbert']"
      ]
     },
     "execution_count": 16,
     "metadata": {},
     "output_type": "execute_result"
    }
   ],
   "source": [
    "keys"
   ]
  },
  {
   "cell_type": "code",
   "execution_count": 17,
   "id": "b1e7dd22-26bb-4b4e-9364-aabd368752a9",
   "metadata": {},
   "outputs": [
    {
     "name": "stdout",
     "output_type": "stream",
     "text": [
      "sift\n",
      "              precision    recall  f1-score   support\n",
      "\n",
      "   motorbike       0.70      0.77      0.74     24333\n",
      "    airplane       0.75      0.67      0.71     24299\n",
      "\n",
      "    accuracy                           0.72     48632\n",
      "   macro avg       0.72      0.72      0.72     48632\n",
      "weighted avg       0.72      0.72      0.72     48632\n",
      "\n",
      "brisk\n",
      "              precision    recall  f1-score   support\n",
      "\n",
      "   motorbike       0.63      0.76      0.69     20693\n",
      "    airplane       0.70      0.57      0.63     21160\n",
      "\n",
      "    accuracy                           0.66     41853\n",
      "   macro avg       0.67      0.66      0.66     41853\n",
      "weighted avg       0.67      0.66      0.66     41853\n",
      "\n",
      "hilbert\n",
      "              precision    recall  f1-score   support\n",
      "\n",
      "   motorbike       0.71      0.73      0.72     15759\n",
      "    airplane       0.72      0.70      0.71     15810\n",
      "\n",
      "    accuracy                           0.72     31569\n",
      "   macro avg       0.72      0.72      0.72     31569\n",
      "weighted avg       0.72      0.72      0.72     31569\n",
      "\n"
     ]
    }
   ],
   "source": [
    "knn_report = {}\n",
    "for key in keys:\n",
    "    print(key)\n",
    "    knn = KNeighborsClassifier(n_neighbors=3)\n",
    "    knn_report[key] = create_model_report(knn, data[key], label[key], True)"
   ]
  },
  {
   "cell_type": "code",
   "execution_count": 18,
   "id": "070fc717-9d5a-4065-9caa-87773b3e91a6",
   "metadata": {},
   "outputs": [],
   "source": [
    "#dump(knn_sift, '../models/knn_sift.z', compress=3)\n",
    "#dump(knn_brisk, '../models/knn_brisk.z', compress=3)\n",
    "#dump(knn_hilbert, '../models/knn_hilbert.z', compress=3)"
   ]
  },
  {
   "cell_type": "markdown",
   "id": "084362f7-1b4a-43a3-a8c9-2069bbec5154",
   "metadata": {},
   "source": [
    "### Gerar tabela LaTeX com métricas dos modelos "
   ]
  },
  {
   "cell_type": "code",
   "execution_count": 19,
   "id": "03730e75-0e5e-491d-8c75-a23518ea71cb",
   "metadata": {},
   "outputs": [],
   "source": [
    "import pandas as pd"
   ]
  },
  {
   "cell_type": "code",
   "execution_count": 20,
   "id": "0532ba49-ed52-4395-bcfc-86d248481fa0",
   "metadata": {},
   "outputs": [],
   "source": [
    "knn_report_all = {'sift':{}, 'brisk':{}, 'hilbert':{}}\n",
    "\n",
    "for key in keys:\n",
    "    knn_report_all[key]['keypoints'] = percent_kp\n",
    "    knn_report_all[key]['accuracy'] = np.round(knn_report[key]['accuracy'], 2)\n",
    "\n",
    "    for metric in ['precision', 'recall', 'f1-score']:\n",
    "        knn_report_all[key][metric] = np.round(knn_report[key]['weighted avg'][metric], 2)\n",
    "    \n",
    "    knn_report_all[key]['tempo'] = np.round(np.average(time_spent[key]), 4)\n",
    "    \n"
   ]
  },
  {
   "cell_type": "code",
   "execution_count": 21,
   "id": "4cfc22fc-dc70-4180-853d-cf066b550add",
   "metadata": {},
   "outputs": [],
   "source": [
    "df_report_all = pd.DataFrame(knn_report_all).transpose()"
   ]
  },
  {
   "cell_type": "code",
   "execution_count": 22,
   "id": "402df137-171c-412f-bb1f-395a83a57740",
   "metadata": {},
   "outputs": [
    {
     "data": {
      "text/html": [
       "<div>\n",
       "<style scoped>\n",
       "    .dataframe tbody tr th:only-of-type {\n",
       "        vertical-align: middle;\n",
       "    }\n",
       "\n",
       "    .dataframe tbody tr th {\n",
       "        vertical-align: top;\n",
       "    }\n",
       "\n",
       "    .dataframe thead th {\n",
       "        text-align: right;\n",
       "    }\n",
       "</style>\n",
       "<table border=\"1\" class=\"dataframe\">\n",
       "  <thead>\n",
       "    <tr style=\"text-align: right;\">\n",
       "      <th></th>\n",
       "      <th>keypoints</th>\n",
       "      <th>accuracy</th>\n",
       "      <th>precision</th>\n",
       "      <th>recall</th>\n",
       "      <th>f1-score</th>\n",
       "      <th>tempo</th>\n",
       "    </tr>\n",
       "  </thead>\n",
       "  <tbody>\n",
       "    <tr>\n",
       "      <th>sift</th>\n",
       "      <td>1.0</td>\n",
       "      <td>0.72</td>\n",
       "      <td>0.72</td>\n",
       "      <td>0.72</td>\n",
       "      <td>0.72</td>\n",
       "      <td>0.0051</td>\n",
       "    </tr>\n",
       "    <tr>\n",
       "      <th>brisk</th>\n",
       "      <td>1.0</td>\n",
       "      <td>0.66</td>\n",
       "      <td>0.67</td>\n",
       "      <td>0.66</td>\n",
       "      <td>0.66</td>\n",
       "      <td>0.0237</td>\n",
       "    </tr>\n",
       "    <tr>\n",
       "      <th>hilbert</th>\n",
       "      <td>1.0</td>\n",
       "      <td>0.72</td>\n",
       "      <td>0.72</td>\n",
       "      <td>0.72</td>\n",
       "      <td>0.72</td>\n",
       "      <td>0.3464</td>\n",
       "    </tr>\n",
       "  </tbody>\n",
       "</table>\n",
       "</div>"
      ],
      "text/plain": [
       "         keypoints  accuracy  precision  recall  f1-score   tempo\n",
       "sift           1.0      0.72       0.72    0.72      0.72  0.0051\n",
       "brisk          1.0      0.66       0.67    0.66      0.66  0.0237\n",
       "hilbert        1.0      0.72       0.72    0.72      0.72  0.3464"
      ]
     },
     "execution_count": 22,
     "metadata": {},
     "output_type": "execute_result"
    }
   ],
   "source": [
    "df_report_all"
   ]
  },
  {
   "cell_type": "code",
   "execution_count": 23,
   "id": "ec9f8782-1f79-4a7d-8c3f-97ba77c73d0c",
   "metadata": {},
   "outputs": [],
   "source": [
    "latex_report = df_report_all.to_latex(caption = \"Comparação das métricas dos modelos KNN utilizando descritores SIFT e Hilbert\")"
   ]
  },
  {
   "cell_type": "code",
   "execution_count": 24,
   "id": "aa8e41b6-46dc-4097-bd8f-edc0fce66704",
   "metadata": {},
   "outputs": [
    {
     "name": "stdout",
     "output_type": "stream",
     "text": [
      "\\begin{table}\n",
      "\\centering\n",
      "\\caption{Comparação das métricas dos modelos KNN utilizando descritores SIFT e Hilbert}\n",
      "\\begin{tabular}{lrrrrrr}\n",
      "\\toprule\n",
      "{} &  keypoints &  accuracy &  precision &  recall &  f1-score &   tempo \\\\\n",
      "\\midrule\n",
      "sift    &        1.0 &      0.72 &       0.72 &    0.72 &      0.72 &  0.0051 \\\\\n",
      "brisk   &        1.0 &      0.66 &       0.67 &    0.66 &      0.66 &  0.0237 \\\\\n",
      "hilbert &        1.0 &      0.72 &       0.72 &    0.72 &      0.72 &  0.3464 \\\\\n",
      "\\bottomrule\n",
      "\\end{tabular}\n",
      "\\end{table}\n",
      "\n"
     ]
    }
   ],
   "source": [
    "print(latex_report)"
   ]
  },
  {
   "cell_type": "code",
   "execution_count": null,
   "id": "40c30896-603b-4f36-ad75-5bc9777a62a1",
   "metadata": {},
   "outputs": [],
   "source": []
  }
 ],
 "metadata": {
  "kernelspec": {
   "display_name": "Python 3 (ipykernel)",
   "language": "python",
   "name": "python3"
  },
  "language_info": {
   "codemirror_mode": {
    "name": "ipython",
    "version": 3
   },
   "file_extension": ".py",
   "mimetype": "text/x-python",
   "name": "python",
   "nbconvert_exporter": "python",
   "pygments_lexer": "ipython3",
   "version": "3.8.2"
  }
 },
 "nbformat": 4,
 "nbformat_minor": 5
}
