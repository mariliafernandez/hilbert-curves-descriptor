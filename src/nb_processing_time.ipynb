{
 "cells": [
  {
   "cell_type": "code",
   "execution_count": 33,
   "id": "4a91ddf5-0ff2-4310-aeda-5b8c7aa3d222",
   "metadata": {},
   "outputs": [],
   "source": [
    "from hilbert_curve import image_descriptor as hilbert_descriptor\n",
    "from descriptors import keypoint_detector\n",
    "from pathlib import Path\n",
    "import numpy as np\n",
    "import cv2 as cv\n",
    "import time"
   ]
  },
  {
   "cell_type": "code",
   "execution_count": 14,
   "id": "74bd47cb-8b7c-4f05-b728-f3d13f642f98",
   "metadata": {},
   "outputs": [],
   "source": [
    "source_dir = Path('../caltech-101/segmented_images')\n",
    "mask_dir = Path('../caltech-101/masks')"
   ]
  },
  {
   "cell_type": "markdown",
   "id": "81bdec96-9ae6-4a7e-9d40-1364c6e42f78",
   "metadata": {},
   "source": [
    "## Tempo de processamento do descritor"
   ]
  },
  {
   "cell_type": "code",
   "execution_count": 30,
   "id": "4994eb9b-3846-4899-919d-a4be4c8be679",
   "metadata": {},
   "outputs": [],
   "source": [
    "time_descritor = []"
   ]
  },
  {
   "cell_type": "code",
   "execution_count": 31,
   "id": "5e20cc2e-3b13-40e8-a3a1-e1755627a133",
   "metadata": {},
   "outputs": [],
   "source": [
    "for classdir in source_dir.iterdir():\n",
    "    for f in classdir.iterdir():\n",
    "        \n",
    "        im = cv.imread(str(f), cv.IMREAD_GRAYSCALE)\n",
    "        \n",
    "        mask_path = mask_dir / classdir.name / f.name\n",
    "        mask = cv.imread(str(mask_path), cv.IMREAD_GRAYSCALE)\n",
    "        \n",
    "        kp = keypoint_detector(im, mask)\n",
    "\n",
    "        t1 = time.time()\n",
    "        desc = hilbert_descriptor(im, kp)\n",
    "        t2 = time.time()\n",
    "        \n",
    "        time_descritor.append(t2-t1)\n"
   ]
  },
  {
   "cell_type": "code",
   "execution_count": 34,
   "id": "d0a1e54d-3e35-4f36-9052-8164ad92fb8a",
   "metadata": {},
   "outputs": [
    {
     "name": "stdout",
     "output_type": "stream",
     "text": [
      "0.3604851814738491\n"
     ]
    }
   ],
   "source": [
    "time_array = np.asarray(time_descritor)\n",
    "print(np.average(time_array))"
   ]
  },
  {
   "cell_type": "markdown",
   "id": "f305d658-5388-40db-abe5-4cd2fe393808",
   "metadata": {},
   "source": [
    "## Tempo de cada etapa do descritor"
   ]
  },
  {
   "cell_type": "code",
   "execution_count": 47,
   "id": "790a818b-ce36-4cee-be23-d24e8ac99f77",
   "metadata": {},
   "outputs": [],
   "source": [
    "from PIL import Image \n",
    "import hilbert_curve as hilbert\n",
    "import descriptors"
   ]
  },
  {
   "cell_type": "code",
   "execution_count": 43,
   "id": "ad8a1ff6-8aec-4d30-b362-5e6c7742cdfd",
   "metadata": {},
   "outputs": [],
   "source": [
    "img_array = im\n",
    "img = Image.fromarray(im)"
   ]
  },
  {
   "cell_type": "code",
   "execution_count": 45,
   "id": "83db2d2b-5dcf-47c8-a5c4-83af6a77628c",
   "metadata": {},
   "outputs": [
    {
     "data": {
      "image/png": "[encoded data removed]",
      "text/plain": [
       "<PIL.Image.Image image mode=L size=202x124 at 0x7F0FE3E44340>"
      ]
     },
     "execution_count": 45,
     "metadata": {},
     "output_type": "execute_result"
    }
   ],
   "source": [
    "img"
   ]
  },
  {
   "cell_type": "code",
   "execution_count": 68,
   "id": "d7ea76c0-0b93-4c3c-ad74-8c444d04b925",
   "metadata": {},
   "outputs": [
    {
     "name": "stdout",
     "output_type": "stream",
     "text": [
      "CPU times: user 36.7 ms, sys: 8 ms, total: 44.7 ms\n",
      "Wall time: 43.6 ms\n"
     ]
    }
   ],
   "source": [
    "%%time\n",
    "curve_coordinates = hilbert.hilbert_order(min(img.size), img.size)"
   ]
  },
  {
   "cell_type": "code",
   "execution_count": 69,
   "id": "3898f3c8-b21c-4886-841c-e2dfcd1b95bf",
   "metadata": {},
   "outputs": [],
   "source": [
    "keypoints = descriptors.keypoint_detector(im, mask)\n",
    "kp = keypoints[0]"
   ]
  },
  {
   "cell_type": "code",
   "execution_count": 70,
   "id": "5e268f1e-438e-41d9-8a08-1dcee97cbeae",
   "metadata": {},
   "outputs": [
    {
     "name": "stdout",
     "output_type": "stream",
     "text": [
      "CPU times: user 685 µs, sys: 7 µs, total: 692 µs\n",
      "Wall time: 697 µs\n"
     ]
    }
   ],
   "source": [
    "%%time\n",
    "roi = hilbert.roi_curve(img_array, curve_coordinates, kp)"
   ]
  },
  {
   "cell_type": "code",
   "execution_count": 71,
   "id": "72318e93-ad49-4288-9204-007466100442",
   "metadata": {},
   "outputs": [
    {
     "data": {
      "text/plain": [
       "(None, None)"
      ]
     },
     "execution_count": 71,
     "metadata": {},
     "output_type": "execute_result"
    }
   ],
   "source": [
    "roi"
   ]
  },
  {
   "cell_type": "code",
   "execution_count": 72,
   "id": "e21fe1e8-d022-4df7-ac8d-9291cac41bf9",
   "metadata": {},
   "outputs": [],
   "source": [
    "(x, y) = (int(kp.pt[0]), int(kp.pt[1]))"
   ]
  },
  {
   "cell_type": "code",
   "execution_count": 73,
   "id": "28fbabd9-fa01-410a-b085-556652c61263",
   "metadata": {},
   "outputs": [],
   "source": [
    "neighborhood = [\n",
    "    (x-1,y), (x+1,y), (x,y-1), (x,y+1), \n",
    "    (x+1, y+1), (x+1, y-1), (x-1, y-1), (x-1, y+1)\n",
    "]\n",
    "\n",
    "i=0"
   ]
  },
  {
   "cell_type": "code",
   "execution_count": 74,
   "id": "cbaf5cea-9ed8-46fb-93aa-8916236222ad",
   "metadata": {},
   "outputs": [
    {
     "name": "stdout",
     "output_type": "stream",
     "text": [
      "CPU times: user 2.1 ms, sys: 0 ns, total: 2.1 ms\n",
      "Wall time: 2.11 ms\n"
     ]
    }
   ],
   "source": [
    "%%time\n",
    "while roi[0] is None and i < len(neighborhood):\n",
    "\n",
    "    kp = neighborhood[i]\n",
    "    roi = hilbert.roi_curve(img_array, curve_coordinates, kp)\n",
    "    i += 1"
   ]
  },
  {
   "cell_type": "code",
   "execution_count": 78,
   "id": "fd6e5f5e-a725-44b1-8611-1bb5e07e3629",
   "metadata": {},
   "outputs": [
    {
     "name": "stdout",
     "output_type": "stream",
     "text": [
      "CPU times: user 2.59 ms, sys: 0 ns, total: 2.59 ms\n",
      "Wall time: 2.11 ms\n"
     ]
    },
    {
     "data": {
      "text/plain": [
       "array([ 52.22386867,  29.29985297,   2.14635517,   0.88423886,\n",
       "       221.54168526,   3.00812414])"
      ]
     },
     "execution_count": 78,
     "metadata": {},
     "output_type": "execute_result"
    }
   ],
   "source": [
    "%%time\n",
    "hilbert.roi_descriptor(roi[0])"
   ]
  },
  {
   "cell_type": "markdown",
   "id": "eb9821a1-65d0-4cc7-912c-fc390b9ab932",
   "metadata": {},
   "source": [
    "### Alternativa"
   ]
  },
  {
   "cell_type": "markdown",
   "id": "6ed733f4-0ac6-451c-be74-e1d71006ef77",
   "metadata": {},
   "source": [
    "Gera o trecho da curva para o ponto de interesse "
   ]
  },
  {
   "cell_type": "code",
   "execution_count": 80,
   "id": "d5cef83d-400c-4be4-9146-e739aef3fb75",
   "metadata": {},
   "outputs": [],
   "source": [
    "keypoints = descriptors.keypoint_detector(im, mask)"
   ]
  },
  {
   "cell_type": "code",
   "execution_count": 82,
   "id": "c7947133-cfaa-45d3-991b-9830fb66e1d4",
   "metadata": {},
   "outputs": [
    {
     "data": {
      "text/plain": [
       "(9, 63)"
      ]
     },
     "execution_count": 82,
     "metadata": {},
     "output_type": "execute_result"
    }
   ],
   "source": [
    "kp = keypoints[0]\n",
    "(x, y) = (int(kp.pt[0]), int(kp.pt[1]))\n",
    "x,y"
   ]
  },
  {
   "cell_type": "code",
   "execution_count": 87,
   "id": "3a464428-a7d8-4047-8bbe-bb56677d5939",
   "metadata": {},
   "outputs": [],
   "source": [
    "from hilbertcurve.hilbertcurve import HilbertCurve"
   ]
  },
  {
   "cell_type": "code",
   "execution_count": 103,
   "id": "8db72dd0-975a-4f49-befa-e0e3589b6330",
   "metadata": {},
   "outputs": [
    {
     "data": {
      "text/plain": [
       "(124, 202)"
      ]
     },
     "execution_count": 103,
     "metadata": {},
     "output_type": "execute_result"
    }
   ],
   "source": [
    "im.shape"
   ]
  },
  {
   "cell_type": "code",
   "execution_count": 101,
   "id": "2991158d-9ffe-42c0-b171-0308e12f3cd7",
   "metadata": {},
   "outputs": [
    {
     "data": {
      "image/png": "[encoded data removed]",
      "text/plain": [
       "<PIL.Image.Image image mode=L size=202x124 at 0x7F0FE3E44340>"
      ]
     },
     "execution_count": 101,
     "metadata": {},
     "output_type": "execute_result"
    }
   ],
   "source": [
    "img"
   ]
  },
  {
   "cell_type": "code",
   "execution_count": 97,
   "id": "fc7b5808-629c-4c55-b7a2-96fed7cde617",
   "metadata": {},
   "outputs": [],
   "source": [
    "p=128\n",
    "n=2"
   ]
  },
  {
   "cell_type": "code",
   "execution_count": 98,
   "id": "b164876e-2f47-406e-821e-e4f42450220b",
   "metadata": {},
   "outputs": [],
   "source": [
    "hilbert_curve = HilbertCurve(p, n)"
   ]
  },
  {
   "cell_type": "code",
   "execution_count": 105,
   "id": "91f6fcf8-f3c3-496a-8cc8-88e8da09b65e",
   "metadata": {},
   "outputs": [],
   "source": [
    "h = im.shape[0]\n",
    "w = im.shape[1]"
   ]
  },
  {
   "cell_type": "code",
   "execution_count": 121,
   "id": "cdb10ba4-c55c-4c00-b455-c749acea6fcb",
   "metadata": {},
   "outputs": [],
   "source": [
    "p1 = round(9/(w/p))"
   ]
  },
  {
   "cell_type": "code",
   "execution_count": 128,
   "id": "b803e7b3-e44c-4c1c-93e7-2023e4644469",
   "metadata": {},
   "outputs": [],
   "source": [
    "p2 = round(63/(h/p))"
   ]
  },
  {
   "cell_type": "code",
   "execution_count": 129,
   "id": "0b3caa10-d71b-483b-a947-c4bfc8dc29d3",
   "metadata": {},
   "outputs": [
    {
     "data": {
      "text/plain": [
       "(23, 260)"
      ]
     },
     "execution_count": 129,
     "metadata": {},
     "output_type": "execute_result"
    }
   ],
   "source": [
    "p1, p2"
   ]
  },
  {
   "cell_type": "code",
   "execution_count": 120,
   "id": "79a1111b-d2db-426f-b967-3802a811c071",
   "metadata": {},
   "outputs": [
    {
     "data": {
      "text/plain": [
       "[101]"
      ]
     },
     "execution_count": 120,
     "metadata": {},
     "output_type": "execute_result"
    }
   ],
   "source": [
    "hilbert_curve.distances_from_points([[p1,p2]])"
   ]
  },
  {
   "cell_type": "code",
   "execution_count": null,
   "id": "295c66a1-f502-4d60-96c1-1a7166ace5b2",
   "metadata": {},
   "outputs": [],
   "source": []
  }
 ],
 "metadata": {
  "kernelspec": {
   "display_name": "Python 3 (ipykernel)",
   "language": "python",
   "name": "python3"
  },
  "language_info": {
   "codemirror_mode": {
    "name": "ipython",
    "version": 3
   },
   "file_extension": ".py",
   "mimetype": "text/x-python",
   "name": "python",
   "nbconvert_exporter": "python",
   "pygments_lexer": "ipython3",
   "version": "3.8.2"
  }
 },
 "nbformat": 4,
 "nbformat_minor": 5
}
