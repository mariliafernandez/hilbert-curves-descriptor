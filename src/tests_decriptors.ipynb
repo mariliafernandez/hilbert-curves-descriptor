{
 "cells": [
  {
   "cell_type": "code",
   "execution_count": 1,
   "id": "d3166824-d6a6-47eb-ab87-89c45875bad4",
   "metadata": {},
   "outputs": [],
   "source": [
    "import cv2 as cv\n",
    "import matplotlib.pyplot as plt\n",
    "from descriptors import sift_descriptor, brisk_descriptor\n",
    "from hilbert_curve import image_descriptors as hilbert_descriptor\n",
    "from pathlib import Path\n",
    "from sklearn.model_selection import train_test_split\n",
    "import numpy as np\n",
    "from PIL import Image"
   ]
  },
  {
   "cell_type": "code",
   "execution_count": 2,
   "id": "b6c136cf-ca5c-4c9d-9ce8-de3ff213094c",
   "metadata": {},
   "outputs": [],
   "source": [
    "sift_data = []\n",
    "brisk_data = []\n",
    "sift_label = []\n",
    "brisk_label = []"
   ]
  },
  {
   "cell_type": "code",
   "execution_count": 3,
   "id": "8ca18284-e45d-45c7-8341-b6811a025d0a",
   "metadata": {},
   "outputs": [
    {
     "ename": "KeyboardInterrupt",
     "evalue": "",
     "output_type": "error",
     "traceback": [
      "\u001b[0;31m---------------------------------------------------------------------------\u001b[0m",
      "\u001b[0;31mKeyboardInterrupt\u001b[0m                         Traceback (most recent call last)",
      "\u001b[0;32m<ipython-input-3-3f075fe6ab0b>\u001b[0m in \u001b[0;36m<module>\u001b[0;34m\u001b[0m\n\u001b[1;32m      6\u001b[0m     \u001b[0msift_kp\u001b[0m\u001b[0;34m,\u001b[0m \u001b[0msift_desc\u001b[0m \u001b[0;34m=\u001b[0m \u001b[0msift_descriptor\u001b[0m\u001b[0;34m(\u001b[0m\u001b[0mimg\u001b[0m\u001b[0;34m)\u001b[0m\u001b[0;34m\u001b[0m\u001b[0;34m\u001b[0m\u001b[0m\n\u001b[1;32m      7\u001b[0m     \u001b[0mbrisk_kp\u001b[0m\u001b[0;34m,\u001b[0m \u001b[0mbrisk_desc\u001b[0m \u001b[0;34m=\u001b[0m \u001b[0mbrisk_descriptor\u001b[0m\u001b[0;34m(\u001b[0m\u001b[0mimg\u001b[0m\u001b[0;34m)\u001b[0m\u001b[0;34m\u001b[0m\u001b[0;34m\u001b[0m\u001b[0m\n\u001b[0;32m----> 8\u001b[0;31m     \u001b[0mhilbert_desc\u001b[0m \u001b[0;34m=\u001b[0m \u001b[0mhilbert_descriptor\u001b[0m\u001b[0;34m(\u001b[0m\u001b[0mImage\u001b[0m\u001b[0;34m.\u001b[0m\u001b[0mfromarray\u001b[0m\u001b[0;34m(\u001b[0m\u001b[0mimg\u001b[0m\u001b[0;34m)\u001b[0m\u001b[0;34m.\u001b[0m\u001b[0mconvert\u001b[0m\u001b[0;34m(\u001b[0m\u001b[0;34m'L'\u001b[0m\u001b[0;34m)\u001b[0m\u001b[0;34m)\u001b[0m\u001b[0;34m\u001b[0m\u001b[0;34m\u001b[0m\u001b[0m\n\u001b[0m\u001b[1;32m      9\u001b[0m \u001b[0;34m\u001b[0m\u001b[0m\n\u001b[1;32m     10\u001b[0m     \u001b[0msift_data\u001b[0m\u001b[0;34m.\u001b[0m\u001b[0mextend\u001b[0m\u001b[0;34m(\u001b[0m\u001b[0msift_desc\u001b[0m\u001b[0;34m)\u001b[0m\u001b[0;34m\u001b[0m\u001b[0;34m\u001b[0m\u001b[0m\n",
      "\u001b[0;32m~/dev/pessoal/hilbert-curves-images/src/hilbert_curve.py\u001b[0m in \u001b[0;36mimage_descriptors\u001b[0;34m(img, points)\u001b[0m\n\u001b[1;32m    165\u001b[0m \u001b[0;34m\u001b[0m\u001b[0m\n\u001b[1;32m    166\u001b[0m     \u001b[0;32mfor\u001b[0m \u001b[0mkp\u001b[0m \u001b[0;32min\u001b[0m \u001b[0mpoints\u001b[0m\u001b[0;34m:\u001b[0m\u001b[0;34m\u001b[0m\u001b[0;34m\u001b[0m\u001b[0m\n\u001b[0;32m--> 167\u001b[0;31m         \u001b[0mimg_desc\u001b[0m\u001b[0;34m.\u001b[0m\u001b[0mappend\u001b[0m\u001b[0;34m(\u001b[0m\u001b[0mkeypoint_descriptor\u001b[0m\u001b[0;34m(\u001b[0m\u001b[0mimg\u001b[0m\u001b[0;34m,\u001b[0m \u001b[0mkp\u001b[0m\u001b[0;34m)\u001b[0m\u001b[0;34m)\u001b[0m\u001b[0;34m\u001b[0m\u001b[0;34m\u001b[0m\u001b[0m\n\u001b[0m\u001b[1;32m    168\u001b[0m \u001b[0;34m\u001b[0m\u001b[0m\n\u001b[1;32m    169\u001b[0m     \u001b[0;32mreturn\u001b[0m \u001b[0mnp\u001b[0m\u001b[0;34m.\u001b[0m\u001b[0masarray\u001b[0m\u001b[0;34m(\u001b[0m\u001b[0mimg_desc\u001b[0m\u001b[0;34m)\u001b[0m\u001b[0;34m\u001b[0m\u001b[0;34m\u001b[0m\u001b[0m\n",
      "\u001b[0;32m~/dev/pessoal/hilbert-curves-images/src/hilbert_curve.py\u001b[0m in \u001b[0;36mkeypoint_descriptor\u001b[0;34m(img, kp)\u001b[0m\n\u001b[1;32m    125\u001b[0m \u001b[0;34m\u001b[0m\u001b[0m\n\u001b[1;32m    126\u001b[0m     \u001b[0;32mwhile\u001b[0m \u001b[0mn\u001b[0m \u001b[0;34m<=\u001b[0m \u001b[0mmin\u001b[0m\u001b[0;34m(\u001b[0m\u001b[0mimg\u001b[0m\u001b[0;34m.\u001b[0m\u001b[0msize\u001b[0m\u001b[0;34m)\u001b[0m\u001b[0;34m:\u001b[0m\u001b[0;34m\u001b[0m\u001b[0;34m\u001b[0m\u001b[0m\n\u001b[0;32m--> 127\u001b[0;31m         \u001b[0mcurve_coordinates\u001b[0m \u001b[0;34m=\u001b[0m \u001b[0mhilbert_order\u001b[0m\u001b[0;34m(\u001b[0m\u001b[0mn\u001b[0m\u001b[0;34m,\u001b[0m \u001b[0mimg\u001b[0m\u001b[0;34m.\u001b[0m\u001b[0msize\u001b[0m\u001b[0;34m)\u001b[0m\u001b[0;34m\u001b[0m\u001b[0;34m\u001b[0m\u001b[0m\n\u001b[0m\u001b[1;32m    128\u001b[0m \u001b[0;34m\u001b[0m\u001b[0m\n\u001b[1;32m    129\u001b[0m         \u001b[0;32mif\u001b[0m \u001b[0mkp\u001b[0m \u001b[0;32min\u001b[0m \u001b[0mcurve_coordinates\u001b[0m\u001b[0;34m:\u001b[0m\u001b[0;34m\u001b[0m\u001b[0;34m\u001b[0m\u001b[0m\n",
      "\u001b[0;32m~/dev/pessoal/hilbert-curves-images/src/hilbert_curve.py\u001b[0m in \u001b[0;36mhilbert_order\u001b[0;34m(N, im_size)\u001b[0m\n\u001b[1;32m     70\u001b[0m \u001b[0;34m\u001b[0m\u001b[0m\n\u001b[1;32m     71\u001b[0m     \u001b[0;32mfor\u001b[0m \u001b[0mi\u001b[0m \u001b[0;32min\u001b[0m \u001b[0mrange\u001b[0m\u001b[0;34m(\u001b[0m\u001b[0;36m0\u001b[0m\u001b[0;34m,\u001b[0m \u001b[0mN\u001b[0m\u001b[0;34m*\u001b[0m\u001b[0mN\u001b[0m\u001b[0;34m)\u001b[0m\u001b[0;34m:\u001b[0m\u001b[0;34m\u001b[0m\u001b[0;34m\u001b[0m\u001b[0m\n\u001b[0;32m---> 72\u001b[0;31m         \u001b[0mpixel_coord\u001b[0m \u001b[0;34m=\u001b[0m \u001b[0mindex2xy\u001b[0m\u001b[0;34m(\u001b[0m\u001b[0mi\u001b[0m\u001b[0;34m,\u001b[0m \u001b[0mN\u001b[0m\u001b[0;34m,\u001b[0m \u001b[0mim_size\u001b[0m\u001b[0;34m)\u001b[0m\u001b[0;34m\u001b[0m\u001b[0;34m\u001b[0m\u001b[0m\n\u001b[0m\u001b[1;32m     73\u001b[0m         \u001b[0mimg_curve\u001b[0m\u001b[0;34m.\u001b[0m\u001b[0mappend\u001b[0m\u001b[0;34m(\u001b[0m\u001b[0mpixel_coord\u001b[0m\u001b[0;34m)\u001b[0m\u001b[0;34m\u001b[0m\u001b[0;34m\u001b[0m\u001b[0m\n\u001b[1;32m     74\u001b[0m \u001b[0;34m\u001b[0m\u001b[0m\n",
      "\u001b[0;32m~/dev/pessoal/hilbert-curves-images/src/hilbert_curve.py\u001b[0m in \u001b[0;36mindex2xy\u001b[0;34m(index, N, im_size)\u001b[0m\n\u001b[1;32m     61\u001b[0m         \u001b[0mn\u001b[0m \u001b[0;34m*=\u001b[0m \u001b[0;36m2\u001b[0m\u001b[0;34m\u001b[0m\u001b[0;34m\u001b[0m\u001b[0m\n\u001b[1;32m     62\u001b[0m \u001b[0;34m\u001b[0m\u001b[0m\n\u001b[0;32m---> 63\u001b[0;31m     \u001b[0mx\u001b[0m\u001b[0;34m,\u001b[0m \u001b[0my\u001b[0m \u001b[0;34m=\u001b[0m \u001b[0mround\u001b[0m\u001b[0;34m(\u001b[0m\u001b[0mwidth\u001b[0m\u001b[0;34m/\u001b[0m\u001b[0mN\u001b[0m\u001b[0;34m*\u001b[0m\u001b[0mx\u001b[0m\u001b[0;34m)\u001b[0m\u001b[0;34m,\u001b[0m \u001b[0mround\u001b[0m\u001b[0;34m(\u001b[0m\u001b[0mheight\u001b[0m\u001b[0;34m/\u001b[0m\u001b[0mN\u001b[0m\u001b[0;34m*\u001b[0m\u001b[0my\u001b[0m\u001b[0;34m)\u001b[0m\u001b[0;34m\u001b[0m\u001b[0;34m\u001b[0m\u001b[0m\n\u001b[0m\u001b[1;32m     64\u001b[0m \u001b[0;34m\u001b[0m\u001b[0m\n\u001b[1;32m     65\u001b[0m     \u001b[0;32mreturn\u001b[0m \u001b[0mx\u001b[0m\u001b[0;34m,\u001b[0m \u001b[0my\u001b[0m\u001b[0;34m\u001b[0m\u001b[0;34m\u001b[0m\u001b[0m\n",
      "\u001b[0;31mKeyboardInterrupt\u001b[0m: "
     ]
    }
   ],
   "source": [
    "for f in Path('../img/clean-bg/motorbike').iterdir():\n",
    "    \n",
    "    img = cv.imread(str(f))    \n",
    "#     img = Image.open(str(f)).convert('L')\n",
    "\n",
    "    sift_kp, sift_desc = sift_descriptor(img)\n",
    "    brisk_kp, brisk_desc = brisk_descriptor(img)\n",
    "    hilbert_desc = hilbert_descriptor(Image.fromarray(img).convert('L'))\n",
    "    \n",
    "    sift_data.extend(sift_desc)\n",
    "    brisk_data.extend(brisk_desc)\n",
    "#     hilbert_data\n",
    "    \n",
    "    sift_label.extend([0]*len(sift_desc)) # 0 => motorbike\n",
    "    brisk_label.extend([0]*len(brisk_desc)) \n",
    "    "
   ]
  },
  {
   "cell_type": "code",
   "execution_count": null,
   "id": "3666c679-0a23-4e58-8a92-cb9927a2a83c",
   "metadata": {},
   "outputs": [],
   "source": [
    "img_gray = Image.fromarray(img).convert('L')"
   ]
  },
  {
   "cell_type": "code",
   "execution_count": null,
   "id": "c8c7fda8-7643-4e58-8236-4cc0d11146e0",
   "metadata": {},
   "outputs": [],
   "source": [
    "np.asarray(img_gray)"
   ]
  },
  {
   "cell_type": "code",
   "execution_count": null,
   "id": "91861ee3-fa51-4acb-9a74-4fcb5d551167",
   "metadata": {},
   "outputs": [],
   "source": [
    "for f in Path('../img/clean-bg/airplane').iterdir():\n",
    "    \n",
    "#     img = cv.imread(str(f)) \n",
    "    img = Image.open('../img/clean-bg/motorbike/image_0001.jpg').convert('L')\n",
    "    \n",
    "    _, sift_desc = sift_descriptor(img)\n",
    "    _, brisk_desc = brisk_descriptor(img)\n",
    "    \n",
    "    sift_data.extend(sift_desc)\n",
    "    brisk_data.extend(brisk_desc)\n",
    "    \n",
    "    sift_label.extend([1]*len(sift_desc)) # 1 => airplane\n",
    "    brisk_label.extend([1]*len(brisk_desc)) \n",
    "    "
   ]
  },
  {
   "cell_type": "code",
   "execution_count": null,
   "id": "98d5a275-5f91-47e3-8691-2a20438b177a",
   "metadata": {},
   "outputs": [],
   "source": [
    "sift_label = np.asarray(sift_label)\n",
    "brisk_label = np.asarray(brisk_label)"
   ]
  },
  {
   "cell_type": "markdown",
   "id": "80588cc5-e058-420f-ba9a-6321654ad346",
   "metadata": {},
   "source": [
    "### K-Nearest Neighbors using SIFT descritpors"
   ]
  },
  {
   "cell_type": "code",
   "execution_count": null,
   "id": "06c63224-1b27-4b15-a0ab-ee3cc698b176",
   "metadata": {},
   "outputs": [],
   "source": [
    "from sklearn.metrics import confusion_matrix\n",
    "from sklearn.metrics import classification_report\n",
    "from sklearn.neighbors import KNeighborsClassifier\n"
   ]
  },
  {
   "cell_type": "code",
   "execution_count": null,
   "id": "8c6848d1-b85d-416b-bb38-57e31034b56a",
   "metadata": {},
   "outputs": [],
   "source": [
    "X_sift_train, X_sift_test, y_sift_train, y_sift_test = train_test_split(sift_data, sift_label)"
   ]
  },
  {
   "cell_type": "code",
   "execution_count": null,
   "id": "b6f607e1-2b14-4545-9404-78290d74117d",
   "metadata": {},
   "outputs": [],
   "source": [
    "knn_sift = KNeighborsClassifier(n_neighbors=3)"
   ]
  },
  {
   "cell_type": "code",
   "execution_count": null,
   "id": "4aa6c1ee-7895-4d3b-87b3-6519434900f6",
   "metadata": {},
   "outputs": [],
   "source": [
    "knn_sift.fit(X_sift_train, y_sift_train)\n",
    "predict_sift = knn_sift.predict(X_sift_test)"
   ]
  },
  {
   "cell_type": "code",
   "execution_count": null,
   "id": "810cd591-ee7e-4f33-bf6c-0ad0f3a35b33",
   "metadata": {},
   "outputs": [],
   "source": [
    "# confusion_matrix(y_sift_test, predict_sift)"
   ]
  },
  {
   "cell_type": "code",
   "execution_count": null,
   "id": "5e55da8e-8dc3-4244-a7ee-f09ed37e22c0",
   "metadata": {},
   "outputs": [],
   "source": [
    "print(classification_report(y_sift_test, predict_sift))"
   ]
  },
  {
   "cell_type": "markdown",
   "id": "290d03bd-1951-4e0b-9d3c-a71dbdaaedf1",
   "metadata": {},
   "source": [
    "### K-Nearest Neighbors using BRISK descritpors"
   ]
  },
  {
   "cell_type": "code",
   "execution_count": null,
   "id": "92a4d5e2-1927-4254-80a7-9cc0b58bf25e",
   "metadata": {},
   "outputs": [],
   "source": [
    "X_brisk_train, X_brisk_test, y_brisk_train, y_brisk_test = train_test_split(brisk_data, brisk_label)"
   ]
  },
  {
   "cell_type": "code",
   "execution_count": null,
   "id": "23bc981f-f92d-4fec-9423-98f80914bd75",
   "metadata": {},
   "outputs": [],
   "source": [
    "knn_brisk = KNeighborsClassifier(n_neighbors=3)"
   ]
  },
  {
   "cell_type": "code",
   "execution_count": null,
   "id": "61525623-b26a-4d4a-b345-860ef64de23e",
   "metadata": {},
   "outputs": [],
   "source": [
    "knn_brisk.fit(X_brisk_train, y_brisk_train)\n",
    "predict_brisk = knn_brisk.predict(X_brisk_test)"
   ]
  },
  {
   "cell_type": "code",
   "execution_count": null,
   "id": "fc4f6561-aa9d-471a-8e5b-1e26b1536560",
   "metadata": {},
   "outputs": [],
   "source": [
    "print(classification_report(y_brisk_test, predict_brisk))"
   ]
  },
  {
   "cell_type": "code",
   "execution_count": 3,
   "id": "0c5a8b68-b5cc-4203-962a-df0c5a07813b",
   "metadata": {},
   "outputs": [],
   "source": [
    "img = Image.open('../img/clean-bg/motorbike/image_0001.jpg').convert('L')\n",
    "hilbert_desc = hilbert_descriptor(img)\n"
   ]
  },
  {
   "cell_type": "code",
   "execution_count": 5,
   "id": "1e8af10a-80d9-4e12-b202-be104c6df683",
   "metadata": {},
   "outputs": [
    {
     "data": {
      "text/plain": [
       "numpy.ndarray"
      ]
     },
     "execution_count": 5,
     "metadata": {},
     "output_type": "execute_result"
    }
   ],
   "source": [
    "type(hilbert_desc)"
   ]
  },
  {
   "cell_type": "code",
   "execution_count": null,
   "id": "40023706-0d88-4081-a045-e536820b26e4",
   "metadata": {},
   "outputs": [],
   "source": []
  }
 ],
 "metadata": {
  "kernelspec": {
   "display_name": "Python 3",
   "language": "python",
   "name": "python3"
  },
  "language_info": {
   "codemirror_mode": {
    "name": "ipython",
    "version": 3
   },
   "file_extension": ".py",
   "mimetype": "text/x-python",
   "name": "python",
   "nbconvert_exporter": "python",
   "pygments_lexer": "ipython3",
   "version": "3.8.2"
  }
 },
 "nbformat": 4,
 "nbformat_minor": 5
}
