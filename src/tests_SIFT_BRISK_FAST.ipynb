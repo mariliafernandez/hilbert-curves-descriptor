{
 "cells": [
  {
   "cell_type": "code",
   "execution_count": 1,
   "id": "a7e01d5b-cf7a-4d2c-b69c-b7bd696b62c1",
   "metadata": {},
   "outputs": [],
   "source": [
    "# from hilbert_curve import * \n",
    "#from descriptors import sift_descriptor\n",
    "from PIL import Image\n",
    "import numpy as np\n",
    "import cv2 as cv\n",
    "from scipy.stats import skew, kurtosis, entropy, energy_distance\n",
    "import matplotlib.pyplot as plt\n",
    "import numpy.ma as ma"
   ]
  },
  {
   "cell_type": "code",
   "execution_count": 2,
   "id": "27f813c7-8299-4403-8ab7-fd6dd025c3ba",
   "metadata": {},
   "outputs": [],
   "source": [
    "def pixel_values(img, curve_coordinates):\n",
    "\n",
    "    curve_pixels = []\n",
    "    np_img = np.asarray(img)\n",
    "    \n",
    "    for coord in curve_coordinates:\n",
    "        curve_pixels.append(np_img[coord[1], coord[0]])\n",
    "    \n",
    "    return curve_pixels"
   ]
  },
  {
   "cell_type": "markdown",
   "id": "0165058a-16e3-4e09-8444-300e695a30d3",
   "metadata": {},
   "source": [
    "# Descritores da Imagem"
   ]
  },
  {
   "cell_type": "markdown",
   "id": "39011c08-4663-43c1-9e27-e823cbe420c9",
   "metadata": {},
   "source": [
    "### Leitura da imagem em escala de cinza"
   ]
  },
  {
   "cell_type": "code",
   "execution_count": 3,
   "id": "38634922-ba59-45da-8692-f573fea2ebe9",
   "metadata": {},
   "outputs": [
    {
     "name": "stdout",
     "output_type": "stream",
     "text": [
      "(153, 263, 3)\n",
      "(153, 263)\n"
     ]
    }
   ],
   "source": [
    "# img = Image.open('../img/clean-bg/motorbike/image_0001.jpg').convert('L')\n",
    "img_rgb = Image.open('../img/clean-bg/motorbike/image_0016.jpg')#.convert('L')\n",
    "img = img_rgb.convert('L')\n",
    "img_array = np.asarray(img)\n",
    "\n",
    "print(np.asarray(img_rgb).shape)\n",
    "print(np.asarray(img).shape)"
   ]
  },
  {
   "cell_type": "markdown",
   "id": "26ccf697-5f0b-4deb-8872-eed0a203677f",
   "metadata": {},
   "source": [
    "### Detecção e descrição de características"
   ]
  },
  {
   "cell_type": "code",
   "execution_count": 4,
   "id": "b4064065-ef53-4677-a6d2-f3ee32c3f7ee",
   "metadata": {},
   "outputs": [],
   "source": [
    "from descriptors import keypoint_detector, sift_descriptor, brisk_descriptor \n",
    "from hilbert_curve import image_descriptor as hilbert_descriptor"
   ]
  },
  {
   "cell_type": "markdown",
   "id": "16cbf74c-13ba-48c8-9c08-7453f66cbad5",
   "metadata": {},
   "source": [
    "#### Detecção"
   ]
  },
  {
   "cell_type": "code",
   "execution_count": 5,
   "id": "2e5111fc-a5c1-4ccd-abc0-ae3af0a5f7cf",
   "metadata": {},
   "outputs": [],
   "source": [
    "keypoints = keypoint_detector(img_array)"
   ]
  },
  {
   "cell_type": "markdown",
   "id": "d4c706f5-6a3c-4224-b2f8-c8b5bb2ce7fc",
   "metadata": {},
   "source": [
    "#### Descrição - SIFT"
   ]
  },
  {
   "cell_type": "code",
   "execution_count": 13,
   "id": "6f434765-b291-4725-a9c0-1e78ee3c9cac",
   "metadata": {},
   "outputs": [
    {
     "data": {
      "text/plain": [
       "(170, 128)"
      ]
     },
     "execution_count": 13,
     "metadata": {},
     "output_type": "execute_result"
    }
   ],
   "source": [
    "sift_desc = sift_descriptor(img_array, keypoints)\n",
    "sift_desc.shape"
   ]
  },
  {
   "cell_type": "markdown",
   "id": "6428a7d0-a65d-4a3d-8a28-a7140e7b4b59",
   "metadata": {},
   "source": [
    "#### Descrição - BRISK"
   ]
  },
  {
   "cell_type": "code",
   "execution_count": 14,
   "id": "234f5e2b-4f0b-4567-9459-dc5ab40e354e",
   "metadata": {},
   "outputs": [
    {
     "data": {
      "text/plain": [
       "(168, 64)"
      ]
     },
     "execution_count": 14,
     "metadata": {},
     "output_type": "execute_result"
    }
   ],
   "source": [
    "brisk_desc = brisk_descriptor(img_array, keypoints)\n",
    "brisk_desc.shape"
   ]
  },
  {
   "cell_type": "markdown",
   "id": "3b45fa83-677d-4995-8ec1-72059b597e4c",
   "metadata": {},
   "source": [
    "#### Descrição - Hilbert Curves"
   ]
  },
  {
   "cell_type": "code",
   "execution_count": 15,
   "id": "69b8f0f5-af5a-4f73-83b2-2b0b1e0317b1",
   "metadata": {},
   "outputs": [
    {
     "data": {
      "text/plain": [
       "(170, 6)"
      ]
     },
     "execution_count": 15,
     "metadata": {},
     "output_type": "execute_result"
    }
   ],
   "source": [
    "hilbert_desc = hilbert_descriptor(img_array, keypoints)\n",
    "hilbert_desc.shape"
   ]
  }
 ],
 "metadata": {
  "kernelspec": {
   "display_name": "Python 3 (ipykernel)",
   "language": "python",
   "name": "python3"
  },
  "language_info": {
   "codemirror_mode": {
    "name": "ipython",
    "version": 3
   },
   "file_extension": ".py",
   "mimetype": "text/x-python",
   "name": "python",
   "nbconvert_exporter": "python",
   "pygments_lexer": "ipython3",
   "version": "3.8.2"
  }
 },
 "nbformat": 4,
 "nbformat_minor": 5
}
